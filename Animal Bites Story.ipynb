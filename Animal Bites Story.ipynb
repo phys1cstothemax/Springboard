{
 "cells": [
  {
   "cell_type": "code",
   "execution_count": 7,
   "id": "a9ba8920",
   "metadata": {},
   "outputs": [],
   "source": [
    "#I am choosing to present to a non-technical audience, and the problem I have chosen is: Out of the cases where an \n",
    "#animal bite was tested for Rabies, which animal was responsible for the bite and which animal bite is most likely to test positive for Rabies?"
   ]
  },
  {
   "cell_type": "code",
   "execution_count": 111,
   "id": "24a51f95",
   "metadata": {},
   "outputs": [],
   "source": [
    "import pandas as pd\n",
    "import numpy as np \n",
    "import matplotlib.pyplot as plt \n",
    "import seaborn as sns"
   ]
  },
  {
   "cell_type": "code",
   "execution_count": 112,
   "id": "19d6d305",
   "metadata": {},
   "outputs": [],
   "source": [
    "bites = pd.read_csv(r'C:\\Users\\maxsu\\Health_AnimalBites.csv')"
   ]
  },
  {
   "cell_type": "code",
   "execution_count": 113,
   "id": "b8c73ce0",
   "metadata": {},
   "outputs": [
    {
     "data": {
      "text/plain": [
       "Index(['bite_date', 'SpeciesIDDesc', 'BreedIDDesc', 'GenderIDDesc', 'color',\n",
       "       'vaccination_yrs', 'vaccination_date', 'victim_zip', 'AdvIssuedYNDesc',\n",
       "       'WhereBittenIDDesc', 'quarantine_date', 'DispositionIDDesc',\n",
       "       'head_sent_date', 'release_date', 'ResultsIDDesc'],\n",
       "      dtype='object')"
      ]
     },
     "execution_count": 113,
     "metadata": {},
     "output_type": "execute_result"
    }
   ],
   "source": [
    "#Checking out the column names\n",
    "bites.columns"
   ]
  },
  {
   "cell_type": "code",
   "execution_count": 114,
   "id": "5135c2c8",
   "metadata": {},
   "outputs": [],
   "source": [
    "# For my question the most important columns would be 'SpeciesIDDesc' and 'ResultsIDDesc'\n"
   ]
  },
  {
   "cell_type": "code",
   "execution_count": 115,
   "id": "0e408302",
   "metadata": {},
   "outputs": [],
   "source": [
    "bites = bites.drop(columns = ['bite_date', 'BreedIDDesc', 'victim_zip', 'GenderIDDesc', 'color',\n",
    "       'vaccination_yrs', 'vaccination_date', 'AdvIssuedYNDesc',\n",
    "       'WhereBittenIDDesc', 'quarantine_date', 'DispositionIDDesc',\n",
    "       'head_sent_date', 'release_date'])"
   ]
  },
  {
   "cell_type": "code",
   "execution_count": 116,
   "id": "81f61929",
   "metadata": {},
   "outputs": [
    {
     "data": {
      "text/html": [
       "<div>\n",
       "<style scoped>\n",
       "    .dataframe tbody tr th:only-of-type {\n",
       "        vertical-align: middle;\n",
       "    }\n",
       "\n",
       "    .dataframe tbody tr th {\n",
       "        vertical-align: top;\n",
       "    }\n",
       "\n",
       "    .dataframe thead th {\n",
       "        text-align: right;\n",
       "    }\n",
       "</style>\n",
       "<table border=\"1\" class=\"dataframe\">\n",
       "  <thead>\n",
       "    <tr style=\"text-align: right;\">\n",
       "      <th></th>\n",
       "      <th>SpeciesIDDesc</th>\n",
       "      <th>ResultsIDDesc</th>\n",
       "    </tr>\n",
       "  </thead>\n",
       "  <tbody>\n",
       "    <tr>\n",
       "      <th>0</th>\n",
       "      <td>DOG</td>\n",
       "      <td>UNKNOWN</td>\n",
       "    </tr>\n",
       "    <tr>\n",
       "      <th>1</th>\n",
       "      <td>DOG</td>\n",
       "      <td>UNKNOWN</td>\n",
       "    </tr>\n",
       "    <tr>\n",
       "      <th>2</th>\n",
       "      <td>DOG</td>\n",
       "      <td>UNKNOWN</td>\n",
       "    </tr>\n",
       "    <tr>\n",
       "      <th>3</th>\n",
       "      <td>DOG</td>\n",
       "      <td>UNKNOWN</td>\n",
       "    </tr>\n",
       "    <tr>\n",
       "      <th>4</th>\n",
       "      <td>DOG</td>\n",
       "      <td>UNKNOWN</td>\n",
       "    </tr>\n",
       "  </tbody>\n",
       "</table>\n",
       "</div>"
      ],
      "text/plain": [
       "  SpeciesIDDesc ResultsIDDesc\n",
       "0           DOG       UNKNOWN\n",
       "1           DOG       UNKNOWN\n",
       "2           DOG       UNKNOWN\n",
       "3           DOG       UNKNOWN\n",
       "4           DOG       UNKNOWN"
      ]
     },
     "execution_count": 116,
     "metadata": {},
     "output_type": "execute_result"
    }
   ],
   "source": [
    "bites.head()"
   ]
  },
  {
   "cell_type": "code",
   "execution_count": 117,
   "id": "2d997ff6",
   "metadata": {},
   "outputs": [],
   "source": [
    "#For simplicity we only care about the values where the result of the Rabies test is known\n",
    "bites = bites[bites['ResultsIDDesc'].str.contains('UNKNOWN')==False]"
   ]
  },
  {
   "cell_type": "code",
   "execution_count": 118,
   "id": "2cf2cef1",
   "metadata": {},
   "outputs": [
    {
     "data": {
      "text/html": [
       "<div>\n",
       "<style scoped>\n",
       "    .dataframe tbody tr th:only-of-type {\n",
       "        vertical-align: middle;\n",
       "    }\n",
       "\n",
       "    .dataframe tbody tr th {\n",
       "        vertical-align: top;\n",
       "    }\n",
       "\n",
       "    .dataframe thead th {\n",
       "        text-align: right;\n",
       "    }\n",
       "</style>\n",
       "<table border=\"1\" class=\"dataframe\">\n",
       "  <thead>\n",
       "    <tr style=\"text-align: right;\">\n",
       "      <th></th>\n",
       "      <th>SpeciesIDDesc</th>\n",
       "      <th>ResultsIDDesc</th>\n",
       "    </tr>\n",
       "  </thead>\n",
       "  <tbody>\n",
       "    <tr>\n",
       "      <th>1115</th>\n",
       "      <td>DOG</td>\n",
       "      <td>NEGATIVE</td>\n",
       "    </tr>\n",
       "    <tr>\n",
       "      <th>1153</th>\n",
       "      <td>DOG</td>\n",
       "      <td>NEGATIVE</td>\n",
       "    </tr>\n",
       "    <tr>\n",
       "      <th>1208</th>\n",
       "      <td>DOG</td>\n",
       "      <td>NEGATIVE</td>\n",
       "    </tr>\n",
       "    <tr>\n",
       "      <th>1217</th>\n",
       "      <td>CAT</td>\n",
       "      <td>NEGATIVE</td>\n",
       "    </tr>\n",
       "    <tr>\n",
       "      <th>1273</th>\n",
       "      <td>CAT</td>\n",
       "      <td>NEGATIVE</td>\n",
       "    </tr>\n",
       "  </tbody>\n",
       "</table>\n",
       "</div>"
      ],
      "text/plain": [
       "     SpeciesIDDesc ResultsIDDesc\n",
       "1115           DOG      NEGATIVE\n",
       "1153           DOG      NEGATIVE\n",
       "1208           DOG      NEGATIVE\n",
       "1217           CAT      NEGATIVE\n",
       "1273           CAT      NEGATIVE"
      ]
     },
     "execution_count": 118,
     "metadata": {},
     "output_type": "execute_result"
    }
   ],
   "source": [
    "bites.head()"
   ]
  },
  {
   "cell_type": "code",
   "execution_count": 119,
   "id": "f4c8f395",
   "metadata": {},
   "outputs": [
    {
     "data": {
      "text/plain": [
       "ResultsIDDesc\n",
       "NEGATIVE    299\n",
       "POSITIVE      4\n",
       "Name: count, dtype: int64"
      ]
     },
     "execution_count": 119,
     "metadata": {},
     "output_type": "execute_result"
    }
   ],
   "source": [
    "bites['ResultsIDDesc'].value_counts()"
   ]
  },
  {
   "cell_type": "code",
   "execution_count": 120,
   "id": "a89a4829",
   "metadata": {},
   "outputs": [
    {
     "data": {
      "text/plain": [
       "SpeciesIDDesc\n",
       "BAT        163\n",
       "CAT         64\n",
       "DOG         59\n",
       "RACCOON      9\n",
       "OTHER        5\n",
       "Name: count, dtype: int64"
      ]
     },
     "execution_count": 120,
     "metadata": {},
     "output_type": "execute_result"
    }
   ],
   "source": [
    "bites['SpeciesIDDesc'].value_counts()"
   ]
  },
  {
   "cell_type": "code",
   "execution_count": 121,
   "id": "24c21e7c",
   "metadata": {},
   "outputs": [],
   "source": [
    "positive = bites[bites['ResultsIDDesc']== 'POSITIVE']"
   ]
  },
  {
   "cell_type": "code",
   "execution_count": 123,
   "id": "6bb4c98f",
   "metadata": {},
   "outputs": [
    {
     "data": {
      "text/plain": [
       "SpeciesIDDesc  ResultsIDDesc\n",
       "BAT            POSITIVE         3\n",
       "DOG            POSITIVE         1\n",
       "Name: count, dtype: int64"
      ]
     },
     "execution_count": 123,
     "metadata": {},
     "output_type": "execute_result"
    }
   ],
   "source": [
    "positive.value_counts()"
   ]
  },
  {
   "cell_type": "code",
   "execution_count": 126,
   "id": "68e7bdbd",
   "metadata": {},
   "outputs": [
    {
     "data": {
      "image/png": "[encoded data removed]",
      "text/plain": [
       "<Figure size 640x480 with 1 Axes>"
      ]
     },
     "metadata": {},
     "output_type": "display_data"
    }
   ],
   "source": [
    "#Now we will show the total number of bat bites vs. positive results\n",
    "grouped_data = bites.groupby(['SpeciesIDDesc', 'ResultsIDDesc']).size().unstack(fill_value=0)\n",
    "grouped_data.plot(kind='bar', stacked=True)\n",
    "# Adding labels and title\n",
    "plt.xlabel('Species')\n",
    "plt.ylabel(' Total Number of Cases')\n",
    "plt.title('Animal Bites and Rabies Test Results')\n",
    "\n",
    "# Show the plot\n",
    "plt.show()"
   ]
  },
  {
   "cell_type": "code",
   "execution_count": null,
   "id": "5679edbe",
   "metadata": {},
   "outputs": [],
   "source": []
  }
 ],
 "metadata": {
  "kernelspec": {
   "display_name": "Python 3 (ipykernel)",
   "language": "python",
   "name": "python3"
  },
  "language_info": {
   "codemirror_mode": {
    "name": "ipython",
    "version": 3
   },
   "file_extension": ".py",
   "mimetype": "text/x-python",
   "name": "python",
   "nbconvert_exporter": "python",
   "pygments_lexer": "ipython3",
   "version": "3.11.5"
  }
 },
 "nbformat": 4,
 "nbformat_minor": 5
}
