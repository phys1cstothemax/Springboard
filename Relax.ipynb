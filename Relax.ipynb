{
 "cells": [
  {
   "cell_type": "code",
   "execution_count": 10,
   "id": "88e20372",
   "metadata": {},
   "outputs": [],
   "source": [
    "# import libraries\n",
    "import pandas as pd\n",
    "import numpy as np\n",
    "import matplotlib.pyplot as plt\n",
    "import seaborn as sns\n",
    "%matplotlib inline"
   ]
  },
  {
   "cell_type": "code",
   "execution_count": 11,
   "id": "07605ac3",
   "metadata": {},
   "outputs": [
    {
     "data": {
      "text/html": [
       "<div>\n",
       "<style scoped>\n",
       "    .dataframe tbody tr th:only-of-type {\n",
       "        vertical-align: middle;\n",
       "    }\n",
       "\n",
       "    .dataframe tbody tr th {\n",
       "        vertical-align: top;\n",
       "    }\n",
       "\n",
       "    .dataframe thead th {\n",
       "        text-align: right;\n",
       "    }\n",
       "</style>\n",
       "<table border=\"1\" class=\"dataframe\">\n",
       "  <thead>\n",
       "    <tr style=\"text-align: right;\">\n",
       "      <th></th>\n",
       "      <th>time_stamp</th>\n",
       "      <th>user_id</th>\n",
       "      <th>visited</th>\n",
       "    </tr>\n",
       "  </thead>\n",
       "  <tbody>\n",
       "    <tr>\n",
       "      <th>0</th>\n",
       "      <td>2014-04-22 03:53:30</td>\n",
       "      <td>1</td>\n",
       "      <td>1</td>\n",
       "    </tr>\n",
       "    <tr>\n",
       "      <th>1</th>\n",
       "      <td>2013-11-15 03:45:04</td>\n",
       "      <td>2</td>\n",
       "      <td>1</td>\n",
       "    </tr>\n",
       "    <tr>\n",
       "      <th>2</th>\n",
       "      <td>2013-11-29 03:45:04</td>\n",
       "      <td>2</td>\n",
       "      <td>1</td>\n",
       "    </tr>\n",
       "    <tr>\n",
       "      <th>3</th>\n",
       "      <td>2013-12-09 03:45:04</td>\n",
       "      <td>2</td>\n",
       "      <td>1</td>\n",
       "    </tr>\n",
       "    <tr>\n",
       "      <th>4</th>\n",
       "      <td>2013-12-25 03:45:04</td>\n",
       "      <td>2</td>\n",
       "      <td>1</td>\n",
       "    </tr>\n",
       "  </tbody>\n",
       "</table>\n",
       "</div>"
      ],
      "text/plain": [
       "            time_stamp  user_id  visited\n",
       "0  2014-04-22 03:53:30        1        1\n",
       "1  2013-11-15 03:45:04        2        1\n",
       "2  2013-11-29 03:45:04        2        1\n",
       "3  2013-12-09 03:45:04        2        1\n",
       "4  2013-12-25 03:45:04        2        1"
      ]
     },
     "execution_count": 11,
     "metadata": {},
     "output_type": "execute_result"
    }
   ],
   "source": [
    "#Read user engagement csv\n",
    "engage = pd.read_csv(r\"C:/Users/maxsu/relax_challenge/takehome_user_engagement.csv\")\n",
    "engage.head()"
   ]
  },
  {
   "cell_type": "code",
   "execution_count": 12,
   "id": "a0054a5c",
   "metadata": {},
   "outputs": [
    {
     "name": "stdout",
     "output_type": "stream",
     "text": [
      "There were 8823 users and 207917 total logins\n"
     ]
    }
   ],
   "source": [
    "#Determine number of users and how many logins\n",
    "print('There were {} users and {} total logins'.format(\n",
    "    engage['user_id'].nunique(), len(engage)\n",
    "))"
   ]
  },
  {
   "cell_type": "code",
   "execution_count": 13,
   "id": "f8bd528f",
   "metadata": {},
   "outputs": [],
   "source": [
    "#Convert into datetime format\n",
    "engage['time_stamp'] = pd.to_datetime(\n",
    "    engage['time_stamp'], format='%Y-%m-%d %H:%M:%S'\n",
    ")"
   ]
  },
  {
   "cell_type": "code",
   "execution_count": 14,
   "id": "dbc70339",
   "metadata": {},
   "outputs": [],
   "source": [
    "#Write a function to determine whether a user logged in on \n",
    "#3 seperate days within a seven day period \n",
    "\n",
    "def number_of_logins_days(df, days = 7, logins = 3):\n",
    "    from datetime import timedelta\n",
    "    #Dropping duplicate days and sort by day\n",
    "    df['date'] = df['time_stamp'].dt.date\n",
    "    df = df.drop_duplicates(subset='date').sort_values('date')\n",
    "    # How many days has passed for every 3 logins\n",
    "    passed_days = df['date'].diff(periods=logins-1)\n",
    "    #Verify passed time is less than 7 days\n",
    "    return any(passed_days <= timedelta(days=days))"
   ]
  },
  {
   "cell_type": "code",
   "execution_count": 15,
   "id": "a995c299",
   "metadata": {},
   "outputs": [
    {
     "name": "stdout",
     "output_type": "stream",
     "text": [
      "There were 1656 adopted users out of 8823 users\n"
     ]
    }
   ],
   "source": [
    "#Run the function on all users\n",
    "adopted = engage.groupby('user_id').apply(number_of_logins_days)\n",
    "adopted.name = 'adopted_user'\n",
    "print('There were {} adopted users out of {} users'.format(\n",
    "    sum(adopted), len(adopted)))"
   ]
  },
  {
   "cell_type": "code",
   "execution_count": 16,
   "id": "b9c61c03",
   "metadata": {},
   "outputs": [
    {
     "data": {
      "text/html": [
       "<div>\n",
       "<style scoped>\n",
       "    .dataframe tbody tr th:only-of-type {\n",
       "        vertical-align: middle;\n",
       "    }\n",
       "\n",
       "    .dataframe tbody tr th {\n",
       "        vertical-align: top;\n",
       "    }\n",
       "\n",
       "    .dataframe thead th {\n",
       "        text-align: right;\n",
       "    }\n",
       "</style>\n",
       "<table border=\"1\" class=\"dataframe\">\n",
       "  <thead>\n",
       "    <tr style=\"text-align: right;\">\n",
       "      <th></th>\n",
       "      <th>object_id</th>\n",
       "      <th>creation_time</th>\n",
       "      <th>creation_source</th>\n",
       "      <th>last_session_creation_time</th>\n",
       "      <th>opted_in_to_mailing_list</th>\n",
       "      <th>enabled_for_marketing_drip</th>\n",
       "      <th>org_id</th>\n",
       "      <th>invited_by_user_id</th>\n",
       "    </tr>\n",
       "  </thead>\n",
       "  <tbody>\n",
       "    <tr>\n",
       "      <th>0</th>\n",
       "      <td>1</td>\n",
       "      <td>2014-04-22 03:53:30</td>\n",
       "      <td>GUEST_INVITE</td>\n",
       "      <td>1.398139e+09</td>\n",
       "      <td>1</td>\n",
       "      <td>0</td>\n",
       "      <td>11</td>\n",
       "      <td>10803.0</td>\n",
       "    </tr>\n",
       "    <tr>\n",
       "      <th>1</th>\n",
       "      <td>2</td>\n",
       "      <td>2013-11-15 03:45:04</td>\n",
       "      <td>ORG_INVITE</td>\n",
       "      <td>1.396238e+09</td>\n",
       "      <td>0</td>\n",
       "      <td>0</td>\n",
       "      <td>1</td>\n",
       "      <td>316.0</td>\n",
       "    </tr>\n",
       "    <tr>\n",
       "      <th>2</th>\n",
       "      <td>3</td>\n",
       "      <td>2013-03-19 23:14:52</td>\n",
       "      <td>ORG_INVITE</td>\n",
       "      <td>1.363735e+09</td>\n",
       "      <td>0</td>\n",
       "      <td>0</td>\n",
       "      <td>94</td>\n",
       "      <td>1525.0</td>\n",
       "    </tr>\n",
       "    <tr>\n",
       "      <th>3</th>\n",
       "      <td>4</td>\n",
       "      <td>2013-05-21 08:09:28</td>\n",
       "      <td>GUEST_INVITE</td>\n",
       "      <td>1.369210e+09</td>\n",
       "      <td>0</td>\n",
       "      <td>0</td>\n",
       "      <td>1</td>\n",
       "      <td>5151.0</td>\n",
       "    </tr>\n",
       "    <tr>\n",
       "      <th>4</th>\n",
       "      <td>5</td>\n",
       "      <td>2013-01-17 10:14:20</td>\n",
       "      <td>GUEST_INVITE</td>\n",
       "      <td>1.358850e+09</td>\n",
       "      <td>0</td>\n",
       "      <td>0</td>\n",
       "      <td>193</td>\n",
       "      <td>5240.0</td>\n",
       "    </tr>\n",
       "  </tbody>\n",
       "</table>\n",
       "</div>"
      ],
      "text/plain": [
       "   object_id        creation_time creation_source  last_session_creation_time  \\\n",
       "0          1  2014-04-22 03:53:30    GUEST_INVITE                1.398139e+09   \n",
       "1          2  2013-11-15 03:45:04      ORG_INVITE                1.396238e+09   \n",
       "2          3  2013-03-19 23:14:52      ORG_INVITE                1.363735e+09   \n",
       "3          4  2013-05-21 08:09:28    GUEST_INVITE                1.369210e+09   \n",
       "4          5  2013-01-17 10:14:20    GUEST_INVITE                1.358850e+09   \n",
       "\n",
       "   opted_in_to_mailing_list  enabled_for_marketing_drip  org_id  \\\n",
       "0                         1                           0      11   \n",
       "1                         0                           0       1   \n",
       "2                         0                           0      94   \n",
       "3                         0                           0       1   \n",
       "4                         0                           0     193   \n",
       "\n",
       "   invited_by_user_id  \n",
       "0             10803.0  \n",
       "1               316.0  \n",
       "2              1525.0  \n",
       "3              5151.0  \n",
       "4              5240.0  "
      ]
     },
     "execution_count": 16,
     "metadata": {},
     "output_type": "execute_result"
    }
   ],
   "source": [
    "# Read the user data\n",
    "# Drop useless columns such as name and email address \n",
    "cols = ['object_id', 'creation_source', 'creation_time', \n",
    "        'last_session_creation_time', 'opted_in_to_mailing_list',\n",
    "        'enabled_for_marketing_drip', 'org_id', 'invited_by_user_id']\n",
    "users = pd.read_csv(r\"C:/Users/maxsu/relax_challenge/takehome_users.csv\" ,encoding='latin-1', usecols=cols)\n",
    "users.head()"
   ]
  },
  {
   "cell_type": "code",
   "execution_count": null,
   "id": "8de9e894",
   "metadata": {},
   "outputs": [],
   "source": []
  },
  {
   "cell_type": "code",
   "execution_count": 17,
   "id": "bd36977a",
   "metadata": {},
   "outputs": [],
   "source": [
    "# 5 Organizations with most users\n",
    "users['org_id'].value_counts().head()\n",
    "# 5 Users with most invites\n",
    "users['invited_by_user_id'].value_counts().head()\n",
    "#Remove these\n",
    "users = users.drop(['org_id', 'invited_by_user_id'], axis=1)"
   ]
  },
  {
   "cell_type": "code",
   "execution_count": 18,
   "id": "fe80258a",
   "metadata": {},
   "outputs": [],
   "source": [
    "#Create a feature of user history\n",
    "#Convert both time features into datetime\n",
    "users['creation_time'] = pd.to_datetime(\n",
    "    users['creation_time'], format='%Y-%m-%d %H:%M:%S')\n",
    "users['last_session_creation_time'] = pd.to_datetime(\n",
    "    users['last_session_creation_time'], unit='s')\n",
    "#Calculate user history, defined as number of days between account creation and last use\n",
    "users['history'] = users['last_session_creation_time'] - users['creation_time']\n",
    "users['history'] = users['history'].dt.days\n",
    "#Calculate account age, defined as number of days since account creation and now\n",
    "#I don't know when this dataset was collected. Let's use the latest date in creation_time\n",
    "latest = max(users['creation_time'])\n",
    "users['account_age'] = latest - users['creation_time']\n",
    "users['account_age'] = users['account_age'].dt.days\n",
    "#Drop the two original columns\n",
    "users = users.drop(['creation_time', 'last_session_creation_time'], axis=1)"
   ]
  },
  {
   "cell_type": "code",
   "execution_count": 19,
   "id": "7d551f18",
   "metadata": {},
   "outputs": [
    {
     "name": "stdout",
     "output_type": "stream",
     "text": [
      "<class 'pandas.core.frame.DataFrame'>\n",
      "RangeIndex: 12000 entries, 0 to 11999\n",
      "Data columns (total 6 columns):\n",
      " #   Column                      Non-Null Count  Dtype  \n",
      "---  ------                      --------------  -----  \n",
      " 0   object_id                   12000 non-null  int64  \n",
      " 1   creation_source             12000 non-null  object \n",
      " 2   opted_in_to_mailing_list    12000 non-null  int64  \n",
      " 3   enabled_for_marketing_drip  12000 non-null  int64  \n",
      " 4   history                     8823 non-null   float64\n",
      " 5   account_age                 12000 non-null  int64  \n",
      "dtypes: float64(1), int64(4), object(1)\n",
      "memory usage: 562.6+ KB\n"
     ]
    }
   ],
   "source": [
    "users.info()"
   ]
  },
  {
   "cell_type": "code",
   "execution_count": 20,
   "id": "804e3b59",
   "metadata": {},
   "outputs": [],
   "source": [
    "\n",
    "#Merge user data and \"adopted user\" variable\n",
    "users = users.set_index('object_id')\n",
    "users.index.name = 'user_id'\n",
    "data = pd.concat([users, adopted], axis=1, join='inner')\n",
    "data['adopted_user'] = data['adopted_user'].astype(int)"
   ]
  },
  {
   "cell_type": "code",
   "execution_count": 21,
   "id": "41b9ada8",
   "metadata": {},
   "outputs": [
    {
     "data": {
      "image/png": "[encoded data removed]",
      "text/plain": [
       "<Figure size 640x480 with 1 Axes>"
      ]
     },
     "metadata": {},
     "output_type": "display_data"
    }
   ],
   "source": [
    "#Creation source and adopted user\n",
    "_ = sns.countplot(x='creation_source', data=data, hue='adopted_user')\n",
    "_ = plt.xticks(rotation=90)"
   ]
  },
  {
   "cell_type": "code",
   "execution_count": 22,
   "id": "4dabe036",
   "metadata": {},
   "outputs": [
    {
     "name": "stdout",
     "output_type": "stream",
     "text": [
      "chi2 = 41.27933208242451\tp = 2.3526508745340972e-08\n"
     ]
    }
   ],
   "source": [
    "#Going to try a Chi^2 test\n",
    "from scipy.stats import chi2_contingency\n",
    "crosstab = pd.crosstab(data['creation_source'], data['adopted_user'])\n",
    "results = chi2_contingency(crosstab)\n",
    "print('chi2 = {}\\tp = {}'.format(results[0], results[1]))"
   ]
  },
  {
   "cell_type": "code",
   "execution_count": 23,
   "id": "7b7c64eb",
   "metadata": {},
   "outputs": [
    {
     "data": {
      "text/plain": [
       "creation_source\n",
       "GUEST_INVITE          0.232368\n",
       "ORG_INVITE            0.180050\n",
       "PERSONAL_PROJECTS     0.225131\n",
       "SIGNUP                0.159115\n",
       "SIGNUP_GOOGLE_AUTH    0.172563\n",
       "Name: adopted_user, dtype: float64"
      ]
     },
     "execution_count": 23,
     "metadata": {},
     "output_type": "execute_result"
    }
   ],
   "source": [
    "data.groupby('creation_source')['adopted_user'].apply(lambda x: sum(x)/len(x))"
   ]
  },
  {
   "cell_type": "code",
   "execution_count": 24,
   "id": "f335d210",
   "metadata": {},
   "outputs": [
    {
     "data": {
      "text/plain": [
       "opted_in_to_mailing_list\n",
       "0    0.185994\n",
       "1    0.192722\n",
       "Name: adopted_user, dtype: float64"
      ]
     },
     "execution_count": 24,
     "metadata": {},
     "output_type": "execute_result"
    }
   ],
   "source": [
    "#Check mailing list and marketing drip\n",
    "data.groupby('opted_in_to_mailing_list')['adopted_user'].apply(lambda x: sum(x)/len(x))"
   ]
  },
  {
   "cell_type": "code",
   "execution_count": 25,
   "id": "4d565b90",
   "metadata": {},
   "outputs": [
    {
     "name": "stdout",
     "output_type": "stream",
     "text": [
      "For opted_in_to_mailing_list, z = 0.7029779128148217, p = 0.4820695142048774\n"
     ]
    }
   ],
   "source": [
    "def z_test(df, col, target='adopted_user'):\n",
    "    from statsmodels.stats.weightstats import CompareMeans\n",
    "    opted_in = df.loc[data[col]==1, target]\n",
    "    opted_out = df.loc[data[col]==0, target]\n",
    "    z_data = CompareMeans.from_data(opted_in, opted_out)\n",
    "    z, p = CompareMeans.ztest_ind(z_data)\n",
    "    print('For {}, z = {}, p = {}'.format(col, z, p))\n",
    "z_test(data, 'opted_in_to_mailing_list')"
   ]
  },
  {
   "cell_type": "code",
   "execution_count": 26,
   "id": "9fe63cfa",
   "metadata": {},
   "outputs": [
    {
     "name": "stdout",
     "output_type": "stream",
     "text": [
      "For enabled_for_marketing_drip, z = 0.40292649500940364, p = 0.6870022995069647\n"
     ]
    }
   ],
   "source": [
    "data.groupby('enabled_for_marketing_drip')['adopted_user'].apply(lambda x: sum(x)/len(x))\n",
    "z_test(data, 'enabled_for_marketing_drip')"
   ]
  },
  {
   "cell_type": "code",
   "execution_count": 27,
   "id": "947f0873",
   "metadata": {},
   "outputs": [
    {
     "data": {
      "image/png": "[encoded data removed]",
      "text/plain": [
       "<Figure size 640x480 with 1 Axes>"
      ]
     },
     "metadata": {},
     "output_type": "display_data"
    }
   ],
   "source": [
    "#Essentialy no difference between users who signed up for the mailing list or not\n",
    "#History and adopted user\n",
    "def plot_hist_days(df, col, xlabel):\n",
    "    _ = plt.hist(df.loc[data['adopted_user']==1, col], \n",
    "                 bins=30, alpha=0.3, color='b', label='adopted user')\n",
    "    _ = plt.hist(df.loc[data['adopted_user']==0, col], \n",
    "                 bins=30, alpha=0.3, color='r', label='non adopted user')\n",
    "    _ = plt.yscale('log')\n",
    "    _ = plt.legend()\n",
    "    _ = plt.xlabel(xlabel)\n",
    "    _ = plt.ylabel('No. of users')\n",
    "    _ = plt.yticks([1, 10, 100, 1000], ['1', '10', '100', '1000'])\n",
    "plot_hist_days(data, 'history', 'user history(days)')"
   ]
  },
  {
   "cell_type": "code",
   "execution_count": 28,
   "id": "7dcaa148",
   "metadata": {},
   "outputs": [
    {
     "data": {
      "image/png": "[encoded data removed]",
      "text/plain": [
       "<Figure size 640x480 with 1 Axes>"
      ]
     },
     "metadata": {},
     "output_type": "display_data"
    }
   ],
   "source": [
    "plot_hist_days(data, 'account_age', 'account age(days)')"
   ]
  },
  {
   "cell_type": "code",
   "execution_count": null,
   "id": "0a1e9e29",
   "metadata": {},
   "outputs": [],
   "source": [
    "#Users with long history are more likely to be adopted users, and \n",
    "#users with long history are more likely to be adopted users."
   ]
  },
  {
   "cell_type": "code",
   "execution_count": 29,
   "id": "5ce4a2eb",
   "metadata": {},
   "outputs": [],
   "source": [
    "#Modelling"
   ]
  },
  {
   "cell_type": "code",
   "execution_count": 30,
   "id": "0bc98295",
   "metadata": {},
   "outputs": [],
   "source": [
    "#Make dummy variable for creation source\n",
    "creation_source = pd.get_dummies(data['creation_source'], drop_first=True)\n",
    "model_data = pd.concat([data, creation_source], axis=1).drop('creation_source', axis=1)\n",
    "y = model_data['adopted_user']\n",
    "X = model_data.drop('adopted_user', axis=1)\n",
    "\n",
    "from sklearn.model_selection import train_test_split\n",
    "Xtrain, Xtest, ytrain, ytest = train_test_split(\n",
    "    X, y, stratify=y, random_state=42)"
   ]
  },
  {
   "cell_type": "code",
   "execution_count": 31,
   "id": "61bdf2ec",
   "metadata": {},
   "outputs": [
    {
     "name": "stdout",
     "output_type": "stream",
     "text": [
      "Best parameters were {'n_estimators': 100}\n",
      "Best average precision was 0.9623700369708137\n"
     ]
    }
   ],
   "source": [
    "#Use random forest model with balanced class weights to correct for imbalance in the data\n",
    "from sklearn.ensemble import RandomForestClassifier\n",
    "from sklearn.model_selection import GridSearchCV\n",
    "clf = RandomForestClassifier(random_state=42, class_weight='balanced')\n",
    "#Use CV to tune number of trees\n",
    "params = {'n_estimators': [10, 50, 100, 200]}\n",
    "model = GridSearchCV(clf, params)\n",
    "model.fit(Xtrain, ytrain)\n",
    "print('Best parameters were', model.best_params_)\n",
    "print('Best average precision was', model.best_score_)"
   ]
  },
  {
   "cell_type": "code",
   "execution_count": 32,
   "id": "6a0dab5a",
   "metadata": {},
   "outputs": [
    {
     "name": "stdout",
     "output_type": "stream",
     "text": [
      "Accuracy of test set was 0.9524025385312783\n",
      "              precision    recall  f1-score   support\n",
      "\n",
      "           0       0.97      0.97      0.97      1792\n",
      "           1       0.88      0.86      0.87       414\n",
      "\n",
      "    accuracy                           0.95      2206\n",
      "   macro avg       0.92      0.92      0.92      2206\n",
      "weighted avg       0.95      0.95      0.95      2206\n",
      "\n"
     ]
    }
   ],
   "source": [
    "from sklearn.metrics import classification_report, accuracy_score\n",
    "model = RandomForestClassifier(\n",
    "    random_state=42, class_weight='balanced', n_estimators=100\n",
    ")\n",
    "model.fit(Xtrain, ytrain)\n",
    "ypred = model.predict(Xtest)\n",
    "print('Accuracy of test set was', accuracy_score(ytest, ypred))\n",
    "print(classification_report(ytest, ypred))"
   ]
  },
  {
   "cell_type": "code",
   "execution_count": 33,
   "id": "23a57675",
   "metadata": {},
   "outputs": [
    {
     "name": "stdout",
     "output_type": "stream",
     "text": [
      "history                       0.895648\n",
      "account_age                   0.088648\n",
      "opted_in_to_mailing_list      0.003301\n",
      "SIGNUP                        0.003050\n",
      "enabled_for_marketing_drip    0.002900\n",
      "ORG_INVITE                    0.002355\n",
      "PERSONAL_PROJECTS             0.002157\n",
      "SIGNUP_GOOGLE_AUTH            0.001942\n",
      "dtype: float64\n"
     ]
    }
   ],
   "source": [
    "#Let's look at feature importance\n",
    "imp = pd.Series(model.feature_importances_, index=X.columns)\n",
    "imp = imp.sort_values(ascending=False)\n",
    "print(imp)"
   ]
  },
  {
   "cell_type": "code",
   "execution_count": null,
   "id": "cf12ceec",
   "metadata": {},
   "outputs": [],
   "source": [
    "#User history is the most important feature, and am therefore suggesting the client \n",
    "#issue reminders to log into their account. The method of signup was the seond most \n",
    "#important feature and I would therefor erecommend the client to issue discounts for \n",
    "#the customers if they offer recomendations for other customers. \n",
    "#Account age is important but their is no way to leverage that and mailing list and marketing \n",
    "#drip were both ineffective."
   ]
  }
 ],
 "metadata": {
  "kernelspec": {
   "display_name": "Python 3 (ipykernel)",
   "language": "python",
   "name": "python3"
  },
  "language_info": {
   "codemirror_mode": {
    "name": "ipython",
    "version": 3
   },
   "file_extension": ".py",
   "mimetype": "text/x-python",
   "name": "python",
   "nbconvert_exporter": "python",
   "pygments_lexer": "ipython3",
   "version": "3.11.5"
  }
 },
 "nbformat": 4,
 "nbformat_minor": 5
}
