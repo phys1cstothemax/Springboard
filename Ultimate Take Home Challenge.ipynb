{
 "cells": [
  {
   "cell_type": "code",
   "execution_count": 2,
   "id": "62cbb872",
   "metadata": {},
   "outputs": [
    {
     "name": "stderr",
     "output_type": "stream",
     "text": [
      "C:\\Users\\maxsu\\AppData\\Local\\Temp\\ipykernel_7136\\1384332288.py:7: MatplotlibDeprecationWarning: The seaborn styles shipped by Matplotlib are deprecated since 3.6, as they no longer correspond to the styles shipped by seaborn. However, they will remain available as 'seaborn-v0_8-<style>'. Alternatively, directly use the seaborn API instead.\n",
      "  plt.style.use('seaborn')\n"
     ]
    }
   ],
   "source": [
    "import json\n",
    "import pandas as pd\n",
    "import numpy as np\n",
    "import matplotlib.pyplot as plt\n",
    "import seaborn as sns\n",
    "%matplotlib inline\n",
    "plt.style.use('seaborn')"
   ]
  },
  {
   "cell_type": "code",
   "execution_count": 5,
   "id": "2820fa0b",
   "metadata": {},
   "outputs": [],
   "source": [
    "f = pd.read_json(\"C:/Users/maxsu/ultimate_challenge/logins.json\")"
   ]
  },
  {
   "cell_type": "code",
   "execution_count": 7,
   "id": "567e5d0b",
   "metadata": {},
   "outputs": [
    {
     "data": {
      "text/plain": [
       "Index(['login_time'], dtype='object')"
      ]
     },
     "execution_count": 7,
     "metadata": {},
     "output_type": "execute_result"
    }
   ],
   "source": [
    "f.keys()"
   ]
  },
  {
   "cell_type": "code",
   "execution_count": 10,
   "id": "422bf8e4",
   "metadata": {},
   "outputs": [
    {
     "name": "stdout",
     "output_type": "stream",
     "text": [
      "93142\n"
     ]
    }
   ],
   "source": [
    "print(len(f['login_time']))"
   ]
  },
  {
   "cell_type": "code",
   "execution_count": 11,
   "id": "f649eb04",
   "metadata": {},
   "outputs": [],
   "source": [
    "f_logins = pd.DataFrame(pd.to_datetime(f['login_time']),columns = ['login_time'])"
   ]
  },
  {
   "cell_type": "code",
   "execution_count": 12,
   "id": "ddb48799",
   "metadata": {},
   "outputs": [
    {
     "data": {
      "text/html": [
       "<div>\n",
       "<style scoped>\n",
       "    .dataframe tbody tr th:only-of-type {\n",
       "        vertical-align: middle;\n",
       "    }\n",
       "\n",
       "    .dataframe tbody tr th {\n",
       "        vertical-align: top;\n",
       "    }\n",
       "\n",
       "    .dataframe thead th {\n",
       "        text-align: right;\n",
       "    }\n",
       "</style>\n",
       "<table border=\"1\" class=\"dataframe\">\n",
       "  <thead>\n",
       "    <tr style=\"text-align: right;\">\n",
       "      <th></th>\n",
       "      <th>login_time</th>\n",
       "    </tr>\n",
       "  </thead>\n",
       "  <tbody>\n",
       "    <tr>\n",
       "      <th>0</th>\n",
       "      <td>1970-01-01 20:13:18</td>\n",
       "    </tr>\n",
       "    <tr>\n",
       "      <th>1</th>\n",
       "      <td>1970-01-01 20:16:10</td>\n",
       "    </tr>\n",
       "    <tr>\n",
       "      <th>2</th>\n",
       "      <td>1970-01-01 20:16:37</td>\n",
       "    </tr>\n",
       "    <tr>\n",
       "      <th>3</th>\n",
       "      <td>1970-01-01 20:16:36</td>\n",
       "    </tr>\n",
       "    <tr>\n",
       "      <th>4</th>\n",
       "      <td>1970-01-01 20:26:21</td>\n",
       "    </tr>\n",
       "  </tbody>\n",
       "</table>\n",
       "</div>"
      ],
      "text/plain": [
       "           login_time\n",
       "0 1970-01-01 20:13:18\n",
       "1 1970-01-01 20:16:10\n",
       "2 1970-01-01 20:16:37\n",
       "3 1970-01-01 20:16:36\n",
       "4 1970-01-01 20:26:21"
      ]
     },
     "execution_count": 12,
     "metadata": {},
     "output_type": "execute_result"
    }
   ],
   "source": [
    "f_logins.head()"
   ]
  },
  {
   "cell_type": "code",
   "execution_count": 13,
   "id": "57f1d3f3",
   "metadata": {},
   "outputs": [
    {
     "data": {
      "text/plain": [
       "(0, 1)"
      ]
     },
     "execution_count": 13,
     "metadata": {},
     "output_type": "execute_result"
    }
   ],
   "source": [
    "#check for na values\n",
    "f_logins[f_logins['login_time'].isna()].shape"
   ]
  },
  {
   "cell_type": "code",
   "execution_count": 14,
   "id": "a21c18f7",
   "metadata": {},
   "outputs": [
    {
     "data": {
      "text/html": [
       "<div>\n",
       "<style scoped>\n",
       "    .dataframe tbody tr th:only-of-type {\n",
       "        vertical-align: middle;\n",
       "    }\n",
       "\n",
       "    .dataframe tbody tr th {\n",
       "        vertical-align: top;\n",
       "    }\n",
       "\n",
       "    .dataframe thead th {\n",
       "        text-align: right;\n",
       "    }\n",
       "</style>\n",
       "<table border=\"1\" class=\"dataframe\">\n",
       "  <thead>\n",
       "    <tr style=\"text-align: right;\">\n",
       "      <th></th>\n",
       "      <th>count</th>\n",
       "    </tr>\n",
       "    <tr>\n",
       "      <th>login_time</th>\n",
       "      <th></th>\n",
       "    </tr>\n",
       "  </thead>\n",
       "  <tbody>\n",
       "    <tr>\n",
       "      <th>1970-04-13 18:50:19</th>\n",
       "      <td>1</td>\n",
       "    </tr>\n",
       "    <tr>\n",
       "      <th>1970-04-13 18:43:56</th>\n",
       "      <td>1</td>\n",
       "    </tr>\n",
       "    <tr>\n",
       "      <th>1970-04-13 18:54:02</th>\n",
       "      <td>1</td>\n",
       "    </tr>\n",
       "    <tr>\n",
       "      <th>1970-04-13 18:57:38</th>\n",
       "      <td>1</td>\n",
       "    </tr>\n",
       "    <tr>\n",
       "      <th>1970-04-13 18:54:23</th>\n",
       "      <td>1</td>\n",
       "    </tr>\n",
       "  </tbody>\n",
       "</table>\n",
       "</div>"
      ],
      "text/plain": [
       "                     count\n",
       "login_time                \n",
       "1970-04-13 18:50:19      1\n",
       "1970-04-13 18:43:56      1\n",
       "1970-04-13 18:54:02      1\n",
       "1970-04-13 18:57:38      1\n",
       "1970-04-13 18:54:23      1"
      ]
     },
     "execution_count": 14,
     "metadata": {},
     "output_type": "execute_result"
    }
   ],
   "source": [
    "#add count column for resample\n",
    "f_logins['count'] = 1\n",
    "#set login time as index for resampling\n",
    "f_logins.index = f_logins['login_time']\n",
    "#drop redundant column\n",
    "f_logins.drop('login_time',axis=1,inplace=True)\n",
    "f_logins.tail()"
   ]
  },
  {
   "cell_type": "code",
   "execution_count": 16,
   "id": "a3c14759",
   "metadata": {},
   "outputs": [
    {
     "data": {
      "text/plain": [
       "<Axes: xlabel='login_time'>"
      ]
     },
     "execution_count": 16,
     "metadata": {},
     "output_type": "execute_result"
    },
    {
     "data": {
      "image/png": "[encoded data removed]",
      "text/plain": [
       "<Figure size 1200x600 with 1 Axes>"
      ]
     },
     "metadata": {},
     "output_type": "display_data"
    }
   ],
   "source": [
    "f_count = f_logins.resample('15min').sum()\n",
    "f_count.plot(kind='line',figsize=(12,6))"
   ]
  },
  {
   "cell_type": "code",
   "execution_count": 18,
   "id": "920157ee",
   "metadata": {},
   "outputs": [
    {
     "data": {
      "text/html": [
       "<div>\n",
       "<style scoped>\n",
       "    .dataframe tbody tr th:only-of-type {\n",
       "        vertical-align: middle;\n",
       "    }\n",
       "\n",
       "    .dataframe tbody tr th {\n",
       "        vertical-align: top;\n",
       "    }\n",
       "\n",
       "    .dataframe thead th {\n",
       "        text-align: right;\n",
       "    }\n",
       "</style>\n",
       "<table border=\"1\" class=\"dataframe\">\n",
       "  <thead>\n",
       "    <tr style=\"text-align: right;\">\n",
       "      <th></th>\n",
       "      <th>count</th>\n",
       "    </tr>\n",
       "  </thead>\n",
       "  <tbody>\n",
       "    <tr>\n",
       "      <th>count</th>\n",
       "      <td>9788.000000</td>\n",
       "    </tr>\n",
       "    <tr>\n",
       "      <th>mean</th>\n",
       "      <td>9.515938</td>\n",
       "    </tr>\n",
       "    <tr>\n",
       "      <th>std</th>\n",
       "      <td>8.328818</td>\n",
       "    </tr>\n",
       "    <tr>\n",
       "      <th>min</th>\n",
       "      <td>0.000000</td>\n",
       "    </tr>\n",
       "    <tr>\n",
       "      <th>25%</th>\n",
       "      <td>3.000000</td>\n",
       "    </tr>\n",
       "    <tr>\n",
       "      <th>50%</th>\n",
       "      <td>7.000000</td>\n",
       "    </tr>\n",
       "    <tr>\n",
       "      <th>75%</th>\n",
       "      <td>13.000000</td>\n",
       "    </tr>\n",
       "    <tr>\n",
       "      <th>max</th>\n",
       "      <td>73.000000</td>\n",
       "    </tr>\n",
       "  </tbody>\n",
       "</table>\n",
       "</div>"
      ],
      "text/plain": [
       "             count\n",
       "count  9788.000000\n",
       "mean      9.515938\n",
       "std       8.328818\n",
       "min       0.000000\n",
       "25%       3.000000\n",
       "50%       7.000000\n",
       "75%      13.000000\n",
       "max      73.000000"
      ]
     },
     "execution_count": 18,
     "metadata": {},
     "output_type": "execute_result"
    }
   ],
   "source": [
    "f_count.describe()"
   ]
  },
  {
   "cell_type": "code",
   "execution_count": 19,
   "id": "64b4300f",
   "metadata": {},
   "outputs": [],
   "source": [
    "#The average number of logins per 15 minutes is 7. Spikes in the data set are pulling\n",
    "#up the mean"
   ]
  },
  {
   "cell_type": "code",
   "execution_count": 20,
   "id": "cc471b5d",
   "metadata": {},
   "outputs": [
    {
     "data": {
      "text/html": [
       "<div>\n",
       "<style scoped>\n",
       "    .dataframe tbody tr th:only-of-type {\n",
       "        vertical-align: middle;\n",
       "    }\n",
       "\n",
       "    .dataframe tbody tr th {\n",
       "        vertical-align: top;\n",
       "    }\n",
       "\n",
       "    .dataframe thead th {\n",
       "        text-align: right;\n",
       "    }\n",
       "</style>\n",
       "<table border=\"1\" class=\"dataframe\">\n",
       "  <thead>\n",
       "    <tr style=\"text-align: right;\">\n",
       "      <th></th>\n",
       "      <th>count</th>\n",
       "      <th>month_day</th>\n",
       "      <th>weekday</th>\n",
       "    </tr>\n",
       "    <tr>\n",
       "      <th>login_time</th>\n",
       "      <th></th>\n",
       "      <th></th>\n",
       "      <th></th>\n",
       "    </tr>\n",
       "  </thead>\n",
       "  <tbody>\n",
       "    <tr>\n",
       "      <th>1970-01-01 20:00:00</th>\n",
       "      <td>2</td>\n",
       "      <td>1</td>\n",
       "      <td>3</td>\n",
       "    </tr>\n",
       "    <tr>\n",
       "      <th>1970-01-01 20:15:00</th>\n",
       "      <td>6</td>\n",
       "      <td>1</td>\n",
       "      <td>3</td>\n",
       "    </tr>\n",
       "    <tr>\n",
       "      <th>1970-01-01 20:30:00</th>\n",
       "      <td>9</td>\n",
       "      <td>1</td>\n",
       "      <td>3</td>\n",
       "    </tr>\n",
       "    <tr>\n",
       "      <th>1970-01-01 20:45:00</th>\n",
       "      <td>7</td>\n",
       "      <td>1</td>\n",
       "      <td>3</td>\n",
       "    </tr>\n",
       "    <tr>\n",
       "      <th>1970-01-01 21:00:00</th>\n",
       "      <td>1</td>\n",
       "      <td>1</td>\n",
       "      <td>3</td>\n",
       "    </tr>\n",
       "  </tbody>\n",
       "</table>\n",
       "</div>"
      ],
      "text/plain": [
       "                     count  month_day  weekday\n",
       "login_time                                    \n",
       "1970-01-01 20:00:00      2          1        3\n",
       "1970-01-01 20:15:00      6          1        3\n",
       "1970-01-01 20:30:00      9          1        3\n",
       "1970-01-01 20:45:00      7          1        3\n",
       "1970-01-01 21:00:00      1          1        3"
      ]
     },
     "execution_count": 20,
     "metadata": {},
     "output_type": "execute_result"
    }
   ],
   "source": [
    "#create new columns for items of interest\n",
    "f_count = f_count.assign(month_day=f_count.index.day)\n",
    "f_count = f_count.assign(weekday=f_count.index.weekday)\n",
    "f_count.head()"
   ]
  },
  {
   "cell_type": "code",
   "execution_count": 21,
   "id": "2b97a3e1",
   "metadata": {},
   "outputs": [],
   "source": [
    "spike = np.quantile(f_count,0.99)\n",
    "f_spike = f_count[f_count['count'] >= spike]\n",
    "month_days = []\n",
    "weekdays = []\n",
    "for date in f_spike.index:\n",
    "    month_days.append(date.day)\n",
    "    weekdays.append(date.weekday())\n",
    "    \n",
    "f_spike_days = pd.DataFrame(month_days,columns=['day'],index=range(len(month_days)))\n",
    "f_spike_weekdays = pd.DataFrame(weekdays,columns=['weekday'],index=range(len(weekdays)))"
   ]
  },
  {
   "cell_type": "code",
   "execution_count": 23,
   "id": "55ebab30",
   "metadata": {},
   "outputs": [
    {
     "data": {
      "text/plain": [
       "day\n",
       "21    25\n",
       "4     24\n",
       "22    18\n",
       "15    18\n",
       "28    17\n",
       "7     15\n",
       "8     15\n",
       "14    14\n",
       "29    14\n",
       "3     13\n",
       "Name: count, dtype: int64"
      ]
     },
     "execution_count": 23,
     "metadata": {},
     "output_type": "execute_result"
    }
   ],
   "source": [
    "f_spike_days.day.value_counts()[0:10]"
   ]
  },
  {
   "cell_type": "code",
   "execution_count": 25,
   "id": "94310b73",
   "metadata": {},
   "outputs": [
    {
     "data": {
      "text/plain": [
       "weekday\n",
       "5    104\n",
       "6    103\n",
       "4     48\n",
       "3     15\n",
       "2      7\n",
       "1      7\n",
       "0      2\n",
       "Name: count, dtype: int64"
      ]
     },
     "execution_count": 25,
     "metadata": {},
     "output_type": "execute_result"
    }
   ],
   "source": [
    "f_spike_weekdays.weekday.value_counts()\n"
   ]
  },
  {
   "cell_type": "code",
   "execution_count": 26,
   "id": "8a3a3e64",
   "metadata": {},
   "outputs": [],
   "source": [
    "#We can explain the spike in user logins on weekdays as more people use ride share apps\n",
    "#to go to partier or bars on thg weekend"
   ]
  },
  {
   "cell_type": "code",
   "execution_count": 27,
   "id": "7b9df5e1",
   "metadata": {},
   "outputs": [
    {
     "data": {
      "text/plain": [
       "<Axes: xlabel='login_time'>"
      ]
     },
     "execution_count": 27,
     "metadata": {},
     "output_type": "execute_result"
    },
    {
     "data": {
      "image/png": "[encoded data removed]",
      "text/plain": [
       "<Figure size 1200x600 with 1 Axes>"
      ]
     },
     "metadata": {},
     "output_type": "display_data"
    }
   ],
   "source": [
    "#Resample to daily frequency\n",
    "f_day = f_logins.resample('1D').sum()\n",
    "f_day.plot(kind='line',figsize=(12,6))"
   ]
  },
  {
   "cell_type": "code",
   "execution_count": 28,
   "id": "66d1c4a0",
   "metadata": {},
   "outputs": [],
   "source": [
    "#This appears to show an increasing frequency trend foe th eaverage number of logins."
   ]
  },
  {
   "cell_type": "code",
   "execution_count": 30,
   "id": "2703323a",
   "metadata": {},
   "outputs": [
    {
     "name": "stderr",
     "output_type": "stream",
     "text": [
      "C:\\Users\\maxsu\\anaconda3_new\\Lib\\site-packages\\seaborn\\axisgrid.py:118: UserWarning: The figure layout has changed to tight\n",
      "  self._figure.tight_layout(*args, **kwargs)\n"
     ]
    },
    {
     "data": {
      "text/plain": [
       "Text(0.5, 28.99999999999998, 'Day')"
      ]
     },
     "execution_count": 30,
     "metadata": {},
     "output_type": "execute_result"
    },
    {
     "data": {
      "image/png": "[encoded data removed]",
      "text/plain": [
       "<Figure size 500x500 with 1 Axes>"
      ]
     },
     "metadata": {},
     "output_type": "display_data"
    }
   ],
   "source": [
    "#Plot January trend\n",
    "plot_f = f_day[f_day.index.month==1]\n",
    "plot_f = plot_f.assign(x = range(plot_f.shape[0]))\n",
    "sns.lmplot(data=plot_f,x='x',y='count')\n",
    "plt.xlabel('Day')"
   ]
  },
  {
   "cell_type": "code",
   "execution_count": 31,
   "id": "2e40cc47",
   "metadata": {},
   "outputs": [
    {
     "name": "stderr",
     "output_type": "stream",
     "text": [
      "C:\\Users\\maxsu\\anaconda3_new\\Lib\\site-packages\\seaborn\\axisgrid.py:118: UserWarning: The figure layout has changed to tight\n",
      "  self._figure.tight_layout(*args, **kwargs)\n"
     ]
    },
    {
     "data": {
      "text/plain": [
       "Text(0.5, 28.99999999999998, 'Day')"
      ]
     },
     "execution_count": 31,
     "metadata": {},
     "output_type": "execute_result"
    },
    {
     "data": {
      "image/png": "[encoded data removed]",
      "text/plain": [
       "<Figure size 500x500 with 1 Axes>"
      ]
     },
     "metadata": {},
     "output_type": "display_data"
    }
   ],
   "source": [
    "# We can conclude that th eupwards trend doesn't start in January from this graph due \n",
    "#to their being no clear trend either direction\n",
    "#Plot Feb - April trend\n",
    "plot_f = f_day[f_day.index.month!=1]\n",
    "plot_f = plot_f.assign(x = range(plot_f.shape[0]))\n",
    "sns.lmplot(data=plot_f,x='x',y='count')\n",
    "plt.xlabel('Day')"
   ]
  },
  {
   "cell_type": "code",
   "execution_count": 32,
   "id": "0fc8895e",
   "metadata": {},
   "outputs": [],
   "source": [
    "#import data from json file\n",
    "file = 'ultimate_data_challenge.json'\n",
    "with open(file) as f:\n",
    "    data = json.loads(f.read())\n",
    "df = pd.DataFrame(data)"
   ]
  },
  {
   "cell_type": "code",
   "execution_count": 33,
   "id": "212e6d1a",
   "metadata": {},
   "outputs": [
    {
     "data": {
      "text/html": [
       "<div>\n",
       "<style scoped>\n",
       "    .dataframe tbody tr th:only-of-type {\n",
       "        vertical-align: middle;\n",
       "    }\n",
       "\n",
       "    .dataframe tbody tr th {\n",
       "        vertical-align: top;\n",
       "    }\n",
       "\n",
       "    .dataframe thead th {\n",
       "        text-align: right;\n",
       "    }\n",
       "</style>\n",
       "<table border=\"1\" class=\"dataframe\">\n",
       "  <thead>\n",
       "    <tr style=\"text-align: right;\">\n",
       "      <th></th>\n",
       "      <th>city</th>\n",
       "      <th>trips_in_first_30_days</th>\n",
       "      <th>signup_date</th>\n",
       "      <th>avg_rating_of_driver</th>\n",
       "      <th>avg_surge</th>\n",
       "      <th>last_trip_date</th>\n",
       "      <th>phone</th>\n",
       "      <th>surge_pct</th>\n",
       "      <th>ultimate_black_user</th>\n",
       "      <th>weekday_pct</th>\n",
       "      <th>avg_dist</th>\n",
       "      <th>avg_rating_by_driver</th>\n",
       "    </tr>\n",
       "  </thead>\n",
       "  <tbody>\n",
       "    <tr>\n",
       "      <th>0</th>\n",
       "      <td>King's Landing</td>\n",
       "      <td>4</td>\n",
       "      <td>2014-01-25</td>\n",
       "      <td>4.7</td>\n",
       "      <td>1.10</td>\n",
       "      <td>2014-06-17</td>\n",
       "      <td>iPhone</td>\n",
       "      <td>15.4</td>\n",
       "      <td>True</td>\n",
       "      <td>46.2</td>\n",
       "      <td>3.67</td>\n",
       "      <td>5.0</td>\n",
       "    </tr>\n",
       "    <tr>\n",
       "      <th>1</th>\n",
       "      <td>Astapor</td>\n",
       "      <td>0</td>\n",
       "      <td>2014-01-29</td>\n",
       "      <td>5.0</td>\n",
       "      <td>1.00</td>\n",
       "      <td>2014-05-05</td>\n",
       "      <td>Android</td>\n",
       "      <td>0.0</td>\n",
       "      <td>False</td>\n",
       "      <td>50.0</td>\n",
       "      <td>8.26</td>\n",
       "      <td>5.0</td>\n",
       "    </tr>\n",
       "    <tr>\n",
       "      <th>2</th>\n",
       "      <td>Astapor</td>\n",
       "      <td>3</td>\n",
       "      <td>2014-01-06</td>\n",
       "      <td>4.3</td>\n",
       "      <td>1.00</td>\n",
       "      <td>2014-01-07</td>\n",
       "      <td>iPhone</td>\n",
       "      <td>0.0</td>\n",
       "      <td>False</td>\n",
       "      <td>100.0</td>\n",
       "      <td>0.77</td>\n",
       "      <td>5.0</td>\n",
       "    </tr>\n",
       "    <tr>\n",
       "      <th>3</th>\n",
       "      <td>King's Landing</td>\n",
       "      <td>9</td>\n",
       "      <td>2014-01-10</td>\n",
       "      <td>4.6</td>\n",
       "      <td>1.14</td>\n",
       "      <td>2014-06-29</td>\n",
       "      <td>iPhone</td>\n",
       "      <td>20.0</td>\n",
       "      <td>True</td>\n",
       "      <td>80.0</td>\n",
       "      <td>2.36</td>\n",
       "      <td>4.9</td>\n",
       "    </tr>\n",
       "    <tr>\n",
       "      <th>4</th>\n",
       "      <td>Winterfell</td>\n",
       "      <td>14</td>\n",
       "      <td>2014-01-27</td>\n",
       "      <td>4.4</td>\n",
       "      <td>1.19</td>\n",
       "      <td>2014-03-15</td>\n",
       "      <td>Android</td>\n",
       "      <td>11.8</td>\n",
       "      <td>False</td>\n",
       "      <td>82.4</td>\n",
       "      <td>3.13</td>\n",
       "      <td>4.9</td>\n",
       "    </tr>\n",
       "  </tbody>\n",
       "</table>\n",
       "</div>"
      ],
      "text/plain": [
       "             city  trips_in_first_30_days signup_date  avg_rating_of_driver  \\\n",
       "0  King's Landing                       4  2014-01-25                   4.7   \n",
       "1         Astapor                       0  2014-01-29                   5.0   \n",
       "2         Astapor                       3  2014-01-06                   4.3   \n",
       "3  King's Landing                       9  2014-01-10                   4.6   \n",
       "4      Winterfell                      14  2014-01-27                   4.4   \n",
       "\n",
       "   avg_surge last_trip_date    phone  surge_pct  ultimate_black_user  \\\n",
       "0       1.10     2014-06-17   iPhone       15.4                 True   \n",
       "1       1.00     2014-05-05  Android        0.0                False   \n",
       "2       1.00     2014-01-07   iPhone        0.0                False   \n",
       "3       1.14     2014-06-29   iPhone       20.0                 True   \n",
       "4       1.19     2014-03-15  Android       11.8                False   \n",
       "\n",
       "   weekday_pct  avg_dist  avg_rating_by_driver  \n",
       "0         46.2      3.67                   5.0  \n",
       "1         50.0      8.26                   5.0  \n",
       "2        100.0      0.77                   5.0  \n",
       "3         80.0      2.36                   4.9  \n",
       "4         82.4      3.13                   4.9  "
      ]
     },
     "execution_count": 33,
     "metadata": {},
     "output_type": "execute_result"
    }
   ],
   "source": [
    "df.head()"
   ]
  },
  {
   "cell_type": "code",
   "execution_count": 34,
   "id": "87c2b07d",
   "metadata": {},
   "outputs": [
    {
     "name": "stdout",
     "output_type": "stream",
     "text": [
      "<class 'pandas.core.frame.DataFrame'>\n",
      "RangeIndex: 50000 entries, 0 to 49999\n",
      "Data columns (total 12 columns):\n",
      " #   Column                  Non-Null Count  Dtype  \n",
      "---  ------                  --------------  -----  \n",
      " 0   city                    50000 non-null  object \n",
      " 1   trips_in_first_30_days  50000 non-null  int64  \n",
      " 2   signup_date             50000 non-null  object \n",
      " 3   avg_rating_of_driver    41878 non-null  float64\n",
      " 4   avg_surge               50000 non-null  float64\n",
      " 5   last_trip_date          50000 non-null  object \n",
      " 6   phone                   49604 non-null  object \n",
      " 7   surge_pct               50000 non-null  float64\n",
      " 8   ultimate_black_user     50000 non-null  bool   \n",
      " 9   weekday_pct             50000 non-null  float64\n",
      " 10  avg_dist                50000 non-null  float64\n",
      " 11  avg_rating_by_driver    49799 non-null  float64\n",
      "dtypes: bool(1), float64(6), int64(1), object(4)\n",
      "memory usage: 4.2+ MB\n"
     ]
    }
   ],
   "source": [
    "df.info()"
   ]
  },
  {
   "cell_type": "code",
   "execution_count": 35,
   "id": "0f1ebd87",
   "metadata": {},
   "outputs": [
    {
     "data": {
      "text/plain": [
       "trips_in_first_30_days\n",
       "0    30.780\n",
       "1    28.216\n",
       "2    14.804\n",
       "3     7.576\n",
       "4     5.124\n",
       "5     3.232\n",
       "6     2.268\n",
       "Name: proportion, dtype: float64"
      ]
     },
     "execution_count": 35,
     "metadata": {},
     "output_type": "execute_result"
    }
   ],
   "source": [
    "#Break down trip counts by percentage\n",
    "df_tripcounts = df['trips_in_first_30_days'].value_counts(normalize=True)*100\n",
    "df_tripcounts.head(7)"
   ]
  },
  {
   "cell_type": "code",
   "execution_count": 36,
   "id": "2e0906fb",
   "metadata": {},
   "outputs": [
    {
     "data": {
      "text/plain": [
       "69.22"
      ]
     },
     "execution_count": 36,
     "metadata": {},
     "output_type": "execute_result"
    }
   ],
   "source": [
    "#What percentage of drivers are retained?\n",
    "np.sum(df_tripcounts[1:])"
   ]
  },
  {
   "cell_type": "code",
   "execution_count": 37,
   "id": "dd12db1b",
   "metadata": {},
   "outputs": [
    {
     "name": "stdout",
     "output_type": "stream",
     "text": [
      "<class 'pandas.core.frame.DataFrame'>\n",
      "Index: 49604 entries, 0 to 49999\n",
      "Data columns (total 12 columns):\n",
      " #   Column                  Non-Null Count  Dtype  \n",
      "---  ------                  --------------  -----  \n",
      " 0   city                    49604 non-null  object \n",
      " 1   trips_in_first_30_days  49604 non-null  int64  \n",
      " 2   signup_date             49604 non-null  object \n",
      " 3   avg_rating_of_driver    41578 non-null  float64\n",
      " 4   avg_surge               49604 non-null  float64\n",
      " 5   last_trip_date          49604 non-null  object \n",
      " 6   phone                   49604 non-null  object \n",
      " 7   surge_pct               49604 non-null  float64\n",
      " 8   ultimate_black_user     49604 non-null  bool   \n",
      " 9   weekday_pct             49604 non-null  float64\n",
      " 10  avg_dist                49604 non-null  float64\n",
      " 11  avg_rating_by_driver    49406 non-null  float64\n",
      "dtypes: bool(1), float64(6), int64(1), object(4)\n",
      "memory usage: 4.6+ MB\n"
     ]
    }
   ],
   "source": [
    "#Drop rows with no phone information\n",
    "df = df.drop(df[df.phone.isna()==True].index,axis=0)\n",
    "df.info()"
   ]
  },
  {
   "cell_type": "code",
   "execution_count": 38,
   "id": "a5629f08",
   "metadata": {},
   "outputs": [
    {
     "data": {
      "text/plain": [
       "count    49406.000000\n",
       "mean         4.777861\n",
       "std          0.447114\n",
       "min          1.000000\n",
       "25%          4.700000\n",
       "50%          5.000000\n",
       "75%          5.000000\n",
       "max          5.000000\n",
       "Name: avg_rating_by_driver, dtype: float64"
      ]
     },
     "execution_count": 38,
     "metadata": {},
     "output_type": "execute_result"
    }
   ],
   "source": [
    "df['avg_rating_by_driver'].describe()"
   ]
  },
  {
   "cell_type": "code",
   "execution_count": 39,
   "id": "b59f58dd",
   "metadata": {},
   "outputs": [
    {
     "data": {
      "text/plain": [
       "count    41578.000000\n",
       "mean         4.601467\n",
       "std          0.617377\n",
       "min          1.000000\n",
       "25%          4.300000\n",
       "50%          4.900000\n",
       "75%          5.000000\n",
       "max          5.000000\n",
       "Name: avg_rating_of_driver, dtype: float64"
      ]
     },
     "execution_count": 39,
     "metadata": {},
     "output_type": "execute_result"
    }
   ],
   "source": [
    "df['avg_rating_of_driver'].describe()\n"
   ]
  },
  {
   "cell_type": "code",
   "execution_count": 40,
   "id": "229f7c47",
   "metadata": {},
   "outputs": [],
   "source": [
    "#Fill missing values by averaging the mean and median\n",
    "fill_val = (4.777861+5) / 2\n",
    "df['avg_rating_by_driver'] = df['avg_rating_by_driver'].fillna(value=fill_val)\n",
    "\n",
    "#Fill missing values with median value\n",
    "df['avg_rating_of_driver'] = df['avg_rating_of_driver'].fillna(value=4.9)"
   ]
  },
  {
   "cell_type": "code",
   "execution_count": 41,
   "id": "bc07322a",
   "metadata": {},
   "outputs": [
    {
     "name": "stdout",
     "output_type": "stream",
     "text": [
      "<class 'pandas.core.frame.DataFrame'>\n",
      "Index: 49604 entries, 0 to 49999\n",
      "Data columns (total 12 columns):\n",
      " #   Column                  Non-Null Count  Dtype  \n",
      "---  ------                  --------------  -----  \n",
      " 0   city                    49604 non-null  object \n",
      " 1   trips_in_first_30_days  49604 non-null  int64  \n",
      " 2   signup_date             49604 non-null  object \n",
      " 3   avg_rating_of_driver    49604 non-null  float64\n",
      " 4   avg_surge               49604 non-null  float64\n",
      " 5   last_trip_date          49604 non-null  object \n",
      " 6   phone                   49604 non-null  object \n",
      " 7   surge_pct               49604 non-null  float64\n",
      " 8   ultimate_black_user     49604 non-null  bool   \n",
      " 9   weekday_pct             49604 non-null  float64\n",
      " 10  avg_dist                49604 non-null  float64\n",
      " 11  avg_rating_by_driver    49604 non-null  float64\n",
      "dtypes: bool(1), float64(6), int64(1), object(4)\n",
      "memory usage: 4.6+ MB\n"
     ]
    }
   ],
   "source": [
    "df.info()"
   ]
  },
  {
   "cell_type": "code",
   "execution_count": 42,
   "id": "20c143d7",
   "metadata": {},
   "outputs": [],
   "source": [
    "#Convert to timestamp\n",
    "df['last_trip_date'] = pd.to_datetime(df['last_trip_date'])"
   ]
  },
  {
   "cell_type": "code",
   "execution_count": 44,
   "id": "195516e2",
   "metadata": {},
   "outputs": [
    {
     "data": {
      "text/html": [
       "<div>\n",
       "<style scoped>\n",
       "    .dataframe tbody tr th:only-of-type {\n",
       "        vertical-align: middle;\n",
       "    }\n",
       "\n",
       "    .dataframe tbody tr th {\n",
       "        vertical-align: top;\n",
       "    }\n",
       "\n",
       "    .dataframe thead th {\n",
       "        text-align: right;\n",
       "    }\n",
       "</style>\n",
       "<table border=\"1\" class=\"dataframe\">\n",
       "  <thead>\n",
       "    <tr style=\"text-align: right;\">\n",
       "      <th></th>\n",
       "      <th>city</th>\n",
       "      <th>trips_in_first_30_days</th>\n",
       "      <th>signup_date</th>\n",
       "      <th>avg_rating_of_driver</th>\n",
       "      <th>avg_surge</th>\n",
       "      <th>last_trip_date</th>\n",
       "      <th>phone</th>\n",
       "      <th>surge_pct</th>\n",
       "      <th>ultimate_black_user</th>\n",
       "      <th>weekday_pct</th>\n",
       "      <th>avg_dist</th>\n",
       "      <th>avg_rating_by_driver</th>\n",
       "      <th>active</th>\n",
       "    </tr>\n",
       "  </thead>\n",
       "  <tbody>\n",
       "    <tr>\n",
       "      <th>0</th>\n",
       "      <td>King's Landing</td>\n",
       "      <td>4</td>\n",
       "      <td>2014-01-25</td>\n",
       "      <td>4.7</td>\n",
       "      <td>1.10</td>\n",
       "      <td>2014-06-17</td>\n",
       "      <td>iPhone</td>\n",
       "      <td>15.4</td>\n",
       "      <td>True</td>\n",
       "      <td>46.2</td>\n",
       "      <td>3.67</td>\n",
       "      <td>5.0</td>\n",
       "      <td>1</td>\n",
       "    </tr>\n",
       "    <tr>\n",
       "      <th>1</th>\n",
       "      <td>Astapor</td>\n",
       "      <td>0</td>\n",
       "      <td>2014-01-29</td>\n",
       "      <td>5.0</td>\n",
       "      <td>1.00</td>\n",
       "      <td>2014-05-05</td>\n",
       "      <td>Android</td>\n",
       "      <td>0.0</td>\n",
       "      <td>False</td>\n",
       "      <td>50.0</td>\n",
       "      <td>8.26</td>\n",
       "      <td>5.0</td>\n",
       "      <td>0</td>\n",
       "    </tr>\n",
       "    <tr>\n",
       "      <th>2</th>\n",
       "      <td>Astapor</td>\n",
       "      <td>3</td>\n",
       "      <td>2014-01-06</td>\n",
       "      <td>4.3</td>\n",
       "      <td>1.00</td>\n",
       "      <td>2014-01-07</td>\n",
       "      <td>iPhone</td>\n",
       "      <td>0.0</td>\n",
       "      <td>False</td>\n",
       "      <td>100.0</td>\n",
       "      <td>0.77</td>\n",
       "      <td>5.0</td>\n",
       "      <td>0</td>\n",
       "    </tr>\n",
       "    <tr>\n",
       "      <th>3</th>\n",
       "      <td>King's Landing</td>\n",
       "      <td>9</td>\n",
       "      <td>2014-01-10</td>\n",
       "      <td>4.6</td>\n",
       "      <td>1.14</td>\n",
       "      <td>2014-06-29</td>\n",
       "      <td>iPhone</td>\n",
       "      <td>20.0</td>\n",
       "      <td>True</td>\n",
       "      <td>80.0</td>\n",
       "      <td>2.36</td>\n",
       "      <td>4.9</td>\n",
       "      <td>1</td>\n",
       "    </tr>\n",
       "    <tr>\n",
       "      <th>4</th>\n",
       "      <td>Winterfell</td>\n",
       "      <td>14</td>\n",
       "      <td>2014-01-27</td>\n",
       "      <td>4.4</td>\n",
       "      <td>1.19</td>\n",
       "      <td>2014-03-15</td>\n",
       "      <td>Android</td>\n",
       "      <td>11.8</td>\n",
       "      <td>False</td>\n",
       "      <td>82.4</td>\n",
       "      <td>3.13</td>\n",
       "      <td>4.9</td>\n",
       "      <td>0</td>\n",
       "    </tr>\n",
       "  </tbody>\n",
       "</table>\n",
       "</div>"
      ],
      "text/plain": [
       "             city  trips_in_first_30_days signup_date  avg_rating_of_driver  \\\n",
       "0  King's Landing                       4  2014-01-25                   4.7   \n",
       "1         Astapor                       0  2014-01-29                   5.0   \n",
       "2         Astapor                       3  2014-01-06                   4.3   \n",
       "3  King's Landing                       9  2014-01-10                   4.6   \n",
       "4      Winterfell                      14  2014-01-27                   4.4   \n",
       "\n",
       "   avg_surge last_trip_date    phone  surge_pct  ultimate_black_user  \\\n",
       "0       1.10     2014-06-17   iPhone       15.4                 True   \n",
       "1       1.00     2014-05-05  Android        0.0                False   \n",
       "2       1.00     2014-01-07   iPhone        0.0                False   \n",
       "3       1.14     2014-06-29   iPhone       20.0                 True   \n",
       "4       1.19     2014-03-15  Android       11.8                False   \n",
       "\n",
       "   weekday_pct  avg_dist  avg_rating_by_driver  active  \n",
       "0         46.2      3.67                   5.0       1  \n",
       "1         50.0      8.26                   5.0       0  \n",
       "2        100.0      0.77                   5.0       0  \n",
       "3         80.0      2.36                   4.9       1  \n",
       "4         82.4      3.13                   4.9       0  "
      ]
     },
     "execution_count": 44,
     "metadata": {},
     "output_type": "execute_result"
    }
   ],
   "source": [
    "#set current date \n",
    "current_date = df['last_trip_date'].max()\n",
    "#Find if user qualifies as active\n",
    "df['active'] = df['last_trip_date'].apply(lambda date: 0 if (current_date-date).days>30 else 1)\n",
    "df.head()"
   ]
  },
  {
   "cell_type": "code",
   "execution_count": 45,
   "id": "57ef0b35",
   "metadata": {},
   "outputs": [],
   "source": [
    "#create dummy variables for categorical features\n",
    "df_features = pd.get_dummies(df,columns=['city','phone','ultimate_black_user'])\n",
    "df_features.head()\n",
    "#set target and drop unuseful columns\n",
    "target = df_features['active']\n",
    "df_features = df_features.drop(['last_trip_date','signup_date','active'],axis=1)"
   ]
  },
  {
   "cell_type": "code",
   "execution_count": 46,
   "id": "48aa220f",
   "metadata": {},
   "outputs": [
    {
     "data": {
      "text/plain": [
       "<Axes: xlabel='active', ylabel='avg_dist'>"
      ]
     },
     "execution_count": 46,
     "metadata": {},
     "output_type": "execute_result"
    },
    {
     "data": {
      "image/png": "[encoded data removed]",
      "text/plain": [
       "<Figure size 800x550 with 1 Axes>"
      ]
     },
     "metadata": {},
     "output_type": "display_data"
    }
   ],
   "source": [
    "#visualize difference in average distance by activity of user\n",
    "sns.violinplot(data=df,x='active',y='avg_dist')"
   ]
  },
  {
   "cell_type": "code",
   "execution_count": 47,
   "id": "777d446d",
   "metadata": {},
   "outputs": [
    {
     "data": {
      "text/html": [
       "<div>\n",
       "<style scoped>\n",
       "    .dataframe tbody tr th:only-of-type {\n",
       "        vertical-align: middle;\n",
       "    }\n",
       "\n",
       "    .dataframe tbody tr th {\n",
       "        vertical-align: top;\n",
       "    }\n",
       "\n",
       "    .dataframe thead tr th {\n",
       "        text-align: left;\n",
       "    }\n",
       "\n",
       "    .dataframe thead tr:last-of-type th {\n",
       "        text-align: right;\n",
       "    }\n",
       "</style>\n",
       "<table border=\"1\" class=\"dataframe\">\n",
       "  <thead>\n",
       "    <tr>\n",
       "      <th></th>\n",
       "      <th colspan=\"2\" halign=\"left\">avg_dist</th>\n",
       "    </tr>\n",
       "    <tr>\n",
       "      <th></th>\n",
       "      <th>mean</th>\n",
       "      <th>std</th>\n",
       "    </tr>\n",
       "    <tr>\n",
       "      <th>active</th>\n",
       "      <th></th>\n",
       "      <th></th>\n",
       "    </tr>\n",
       "  </thead>\n",
       "  <tbody>\n",
       "    <tr>\n",
       "      <th>0</th>\n",
       "      <td>6.190725</td>\n",
       "      <td>6.184010</td>\n",
       "    </tr>\n",
       "    <tr>\n",
       "      <th>1</th>\n",
       "      <td>5.113930</td>\n",
       "      <td>4.617779</td>\n",
       "    </tr>\n",
       "  </tbody>\n",
       "</table>\n",
       "</div>"
      ],
      "text/plain": [
       "        avg_dist          \n",
       "            mean       std\n",
       "active                    \n",
       "0       6.190725  6.184010\n",
       "1       5.113930  4.617779"
      ]
     },
     "execution_count": 47,
     "metadata": {},
     "output_type": "execute_result"
    }
   ],
   "source": [
    "pd.pivot_table(df,index='active',aggfunc={'avg_dist':['mean','std']})"
   ]
  },
  {
   "cell_type": "code",
   "execution_count": 48,
   "id": "5caac514",
   "metadata": {},
   "outputs": [],
   "source": [
    "#There is a difference in the average distance per trip taken in the first 30 days \n",
    "#between active users and inactive users, this will be important for predictive modeling.\n",
    "#The average rating by by driver will probably be informative, let's plot it for active vs \n",
    "#inactive users."
   ]
  },
  {
   "cell_type": "code",
   "execution_count": 49,
   "id": "469536a5",
   "metadata": {},
   "outputs": [
    {
     "data": {
      "text/plain": [
       "(3.5, 5.2)"
      ]
     },
     "execution_count": 49,
     "metadata": {},
     "output_type": "execute_result"
    },
    {
     "data": {
      "image/png": "[encoded data removed]",
      "text/plain": [
       "<Figure size 800x550 with 1 Axes>"
      ]
     },
     "metadata": {},
     "output_type": "display_data"
    }
   ],
   "source": [
    "sns.violinplot(data=df,x='active',y='avg_rating_by_driver')\n",
    "plt.ylim([3.5,5.2])"
   ]
  },
  {
   "cell_type": "code",
   "execution_count": 50,
   "id": "d8ce4f34",
   "metadata": {},
   "outputs": [
    {
     "data": {
      "text/html": [
       "<div>\n",
       "<style scoped>\n",
       "    .dataframe tbody tr th:only-of-type {\n",
       "        vertical-align: middle;\n",
       "    }\n",
       "\n",
       "    .dataframe tbody tr th {\n",
       "        vertical-align: top;\n",
       "    }\n",
       "\n",
       "    .dataframe thead tr th {\n",
       "        text-align: left;\n",
       "    }\n",
       "\n",
       "    .dataframe thead tr:last-of-type th {\n",
       "        text-align: right;\n",
       "    }\n",
       "</style>\n",
       "<table border=\"1\" class=\"dataframe\">\n",
       "  <thead>\n",
       "    <tr>\n",
       "      <th></th>\n",
       "      <th colspan=\"2\" halign=\"left\">avg_rating_by_driver</th>\n",
       "    </tr>\n",
       "    <tr>\n",
       "      <th></th>\n",
       "      <th>median</th>\n",
       "      <th>std</th>\n",
       "    </tr>\n",
       "    <tr>\n",
       "      <th>active</th>\n",
       "      <th></th>\n",
       "      <th></th>\n",
       "    </tr>\n",
       "  </thead>\n",
       "  <tbody>\n",
       "    <tr>\n",
       "      <th>0</th>\n",
       "      <td>5.0</td>\n",
       "      <td>0.503901</td>\n",
       "    </tr>\n",
       "    <tr>\n",
       "      <th>1</th>\n",
       "      <td>4.8</td>\n",
       "      <td>0.328753</td>\n",
       "    </tr>\n",
       "  </tbody>\n",
       "</table>\n",
       "</div>"
      ],
      "text/plain": [
       "       avg_rating_by_driver          \n",
       "                     median       std\n",
       "active                               \n",
       "0                       5.0  0.503901\n",
       "1                       4.8  0.328753"
      ]
     },
     "execution_count": 50,
     "metadata": {},
     "output_type": "execute_result"
    }
   ],
   "source": [
    "pd.pivot_table(df,index='active',aggfunc={'avg_rating_by_driver':['median','std']})"
   ]
  },
  {
   "cell_type": "code",
   "execution_count": 51,
   "id": "d5dadb62",
   "metadata": {},
   "outputs": [],
   "source": [
    "#Active users took more trips within the first 30 days"
   ]
  },
  {
   "cell_type": "code",
   "execution_count": 52,
   "id": "e1934bf3",
   "metadata": {},
   "outputs": [
    {
     "data": {
      "text/plain": [
       "active\n",
       "0    62.35989\n",
       "1    37.64011\n",
       "Name: proportion, dtype: float64"
      ]
     },
     "execution_count": 52,
     "metadata": {},
     "output_type": "execute_result"
    }
   ],
   "source": [
    "df.active.value_counts(normalize=True)*100\n"
   ]
  },
  {
   "cell_type": "code",
   "execution_count": 53,
   "id": "a9a25889",
   "metadata": {},
   "outputs": [],
   "source": [
    "from sklearn.ensemble import RandomForestClassifier\n",
    "from sklearn.preprocessing import StandardScaler, QuantileTransformer\n",
    "from sklearn.model_selection import train_test_split, cross_val_score, GridSearchCV\n",
    "from sklearn.metrics import precision_recall_fscore_support, confusion_matrix\n",
    "from sklearn.linear_model import LogisticRegression"
   ]
  },
  {
   "cell_type": "code",
   "execution_count": 54,
   "id": "d66291e1",
   "metadata": {},
   "outputs": [],
   "source": [
    "#scale data\n",
    "scaler = QuantileTransformer()\n",
    "scaled_features = scaler.fit_transform(df_features)"
   ]
  },
  {
   "cell_type": "code",
   "execution_count": 55,
   "id": "ae383b20",
   "metadata": {},
   "outputs": [],
   "source": [
    "#split data for training and testing\n",
    "X_train, X_test, y_train, y_test = train_test_split(scaled_features, target, test_size=0.2,random_state=42)"
   ]
  },
  {
   "cell_type": "code",
   "execution_count": 56,
   "id": "33691bc5",
   "metadata": {},
   "outputs": [],
   "source": [
    "#build random forest model with 1000 estimators\n",
    "rf = RandomForestClassifier(n_estimators=1000)\n",
    "rf.fit(X_train,y_train)\n",
    "y_pred = rf.predict(X_test)"
   ]
  },
  {
   "cell_type": "code",
   "execution_count": 58,
   "id": "a1e3259a",
   "metadata": {},
   "outputs": [
    {
     "data": {
      "text/plain": [
       "0.7501259953633707"
      ]
     },
     "execution_count": 58,
     "metadata": {},
     "output_type": "execute_result"
    }
   ],
   "source": [
    "rf.score(X_test,y_test)"
   ]
  },
  {
   "cell_type": "code",
   "execution_count": 59,
   "id": "1983bee8",
   "metadata": {},
   "outputs": [
    {
     "name": "stdout",
     "output_type": "stream",
     "text": [
      "[0.75365239 0.74747984 0.74344758 0.74546371 0.74798387]\n",
      "Mean Cross Validated Score: 0.7485129397903633\n"
     ]
    }
   ],
   "source": [
    "print(cross_val_score(rf,X_test,np.ravel(y_test),cv=5))\n",
    "print('Mean Cross Validated Score:',np.mean(cross_val_score(rf,X_test,np.ravel(y_test),cv=5)))"
   ]
  },
  {
   "cell_type": "code",
   "execution_count": 60,
   "id": "039b3b05",
   "metadata": {},
   "outputs": [
    {
     "data": {
      "text/html": [
       "<div>\n",
       "<style scoped>\n",
       "    .dataframe tbody tr th:only-of-type {\n",
       "        vertical-align: middle;\n",
       "    }\n",
       "\n",
       "    .dataframe tbody tr th {\n",
       "        vertical-align: top;\n",
       "    }\n",
       "\n",
       "    .dataframe thead th {\n",
       "        text-align: right;\n",
       "    }\n",
       "</style>\n",
       "<table border=\"1\" class=\"dataframe\">\n",
       "  <thead>\n",
       "    <tr style=\"text-align: right;\">\n",
       "      <th></th>\n",
       "      <th>feature</th>\n",
       "      <th>importance</th>\n",
       "    </tr>\n",
       "  </thead>\n",
       "  <tbody>\n",
       "    <tr>\n",
       "      <th>5</th>\n",
       "      <td>avg_dist</td>\n",
       "      <td>0.300703</td>\n",
       "    </tr>\n",
       "    <tr>\n",
       "      <th>4</th>\n",
       "      <td>weekday_pct</td>\n",
       "      <td>0.133017</td>\n",
       "    </tr>\n",
       "    <tr>\n",
       "      <th>6</th>\n",
       "      <td>avg_rating_by_driver</td>\n",
       "      <td>0.112358</td>\n",
       "    </tr>\n",
       "    <tr>\n",
       "      <th>0</th>\n",
       "      <td>trips_in_first_30_days</td>\n",
       "      <td>0.080920</td>\n",
       "    </tr>\n",
       "    <tr>\n",
       "      <th>1</th>\n",
       "      <td>avg_rating_of_driver</td>\n",
       "      <td>0.080741</td>\n",
       "    </tr>\n",
       "    <tr>\n",
       "      <th>3</th>\n",
       "      <td>surge_pct</td>\n",
       "      <td>0.079539</td>\n",
       "    </tr>\n",
       "    <tr>\n",
       "      <th>2</th>\n",
       "      <td>avg_surge</td>\n",
       "      <td>0.066402</td>\n",
       "    </tr>\n",
       "    <tr>\n",
       "      <th>8</th>\n",
       "      <td>city_King's Landing</td>\n",
       "      <td>0.047392</td>\n",
       "    </tr>\n",
       "    <tr>\n",
       "      <th>11</th>\n",
       "      <td>phone_iPhone</td>\n",
       "      <td>0.019796</td>\n",
       "    </tr>\n",
       "    <tr>\n",
       "      <th>10</th>\n",
       "      <td>phone_Android</td>\n",
       "      <td>0.019696</td>\n",
       "    </tr>\n",
       "    <tr>\n",
       "      <th>12</th>\n",
       "      <td>ultimate_black_user_False</td>\n",
       "      <td>0.016636</td>\n",
       "    </tr>\n",
       "    <tr>\n",
       "      <th>13</th>\n",
       "      <td>ultimate_black_user_True</td>\n",
       "      <td>0.016499</td>\n",
       "    </tr>\n",
       "    <tr>\n",
       "      <th>7</th>\n",
       "      <td>city_Astapor</td>\n",
       "      <td>0.015548</td>\n",
       "    </tr>\n",
       "    <tr>\n",
       "      <th>9</th>\n",
       "      <td>city_Winterfell</td>\n",
       "      <td>0.010754</td>\n",
       "    </tr>\n",
       "  </tbody>\n",
       "</table>\n",
       "</div>"
      ],
      "text/plain": [
       "                      feature  importance\n",
       "5                    avg_dist    0.300703\n",
       "4                 weekday_pct    0.133017\n",
       "6        avg_rating_by_driver    0.112358\n",
       "0      trips_in_first_30_days    0.080920\n",
       "1        avg_rating_of_driver    0.080741\n",
       "3                   surge_pct    0.079539\n",
       "2                   avg_surge    0.066402\n",
       "8         city_King's Landing    0.047392\n",
       "11               phone_iPhone    0.019796\n",
       "10              phone_Android    0.019696\n",
       "12  ultimate_black_user_False    0.016636\n",
       "13   ultimate_black_user_True    0.016499\n",
       "7                city_Astapor    0.015548\n",
       "9             city_Winterfell    0.010754"
      ]
     },
     "execution_count": 60,
     "metadata": {},
     "output_type": "execute_result"
    }
   ],
   "source": [
    "df_importance = pd.DataFrame(zip(list(df_features.columns),rf.feature_importances_),index=range(df_features.columns.shape[0]),columns=['feature','importance'])\n",
    "df_importance.sort_values(by='importance',ascending=False)"
   ]
  },
  {
   "cell_type": "code",
   "execution_count": 61,
   "id": "ac9a1efc",
   "metadata": {},
   "outputs": [],
   "source": [
    "#Average distance driven, weekday percentage, and the rating given to the passenger by the \n",
    "#driver were the most important features."
   ]
  },
  {
   "cell_type": "code",
   "execution_count": 62,
   "id": "258266dd",
   "metadata": {},
   "outputs": [
    {
     "data": {
      "text/plain": [
       "(array([0.80051688, 0.66648794]),\n",
       " array([0.79935484, 0.66809997]),\n",
       " array([0.79993544, 0.66729298]),\n",
       " array([6200, 3721], dtype=int64))"
      ]
     },
     "execution_count": 62,
     "metadata": {},
     "output_type": "execute_result"
    }
   ],
   "source": [
    "\n",
    "#more metrics for our model\n",
    "precision_recall_fscore_support(y_test,y_pred)"
   ]
  },
  {
   "cell_type": "code",
   "execution_count": 64,
   "id": "e82dfbe0",
   "metadata": {},
   "outputs": [
    {
     "data": {
      "text/plain": [
       "(0.7502475819466946, 0.7501259953633707, 0.7501861597674541, None)"
      ]
     },
     "execution_count": 64,
     "metadata": {},
     "output_type": "execute_result"
    }
   ],
   "source": [
    "#weighted metrics\n",
    "precision_recall_fscore_support(y_test,y_pred,average='weighted')\n"
   ]
  },
  {
   "cell_type": "code",
   "execution_count": 65,
   "id": "38de0462",
   "metadata": {},
   "outputs": [],
   "source": [
    "#We will next try logistic regression tuned to the hyperparameters which\n",
    "#were seen as important from our last model"
   ]
  },
  {
   "cell_type": "code",
   "execution_count": 66,
   "id": "d20ca83a",
   "metadata": {},
   "outputs": [
    {
     "data": {
      "text/html": [
       "<style>#sk-container-id-1 {color: black;}#sk-container-id-1 pre{padding: 0;}#sk-container-id-1 div.sk-toggleable {background-color: white;}#sk-container-id-1 label.sk-toggleable__label {cursor: pointer;display: block;width: 100%;margin-bottom: 0;padding: 0.3em;box-sizing: border-box;text-align: center;}#sk-container-id-1 label.sk-toggleable__label-arrow:before {content: \"▸\";float: left;margin-right: 0.25em;color: #696969;}#sk-container-id-1 label.sk-toggleable__label-arrow:hover:before {color: black;}#sk-container-id-1 div.sk-estimator:hover label.sk-toggleable__label-arrow:before {color: black;}#sk-container-id-1 div.sk-toggleable__content {max-height: 0;max-width: 0;overflow: hidden;text-align: left;background-color: #f0f8ff;}#sk-container-id-1 div.sk-toggleable__content pre {margin: 0.2em;color: black;border-radius: 0.25em;background-color: #f0f8ff;}#sk-container-id-1 input.sk-toggleable__control:checked~div.sk-toggleable__content {max-height: 200px;max-width: 100%;overflow: auto;}#sk-container-id-1 input.sk-toggleable__control:checked~label.sk-toggleable__label-arrow:before {content: \"▾\";}#sk-container-id-1 div.sk-estimator input.sk-toggleable__control:checked~label.sk-toggleable__label {background-color: #d4ebff;}#sk-container-id-1 div.sk-label input.sk-toggleable__control:checked~label.sk-toggleable__label {background-color: #d4ebff;}#sk-container-id-1 input.sk-hidden--visually {border: 0;clip: rect(1px 1px 1px 1px);clip: rect(1px, 1px, 1px, 1px);height: 1px;margin: -1px;overflow: hidden;padding: 0;position: absolute;width: 1px;}#sk-container-id-1 div.sk-estimator {font-family: monospace;background-color: #f0f8ff;border: 1px dotted black;border-radius: 0.25em;box-sizing: border-box;margin-bottom: 0.5em;}#sk-container-id-1 div.sk-estimator:hover {background-color: #d4ebff;}#sk-container-id-1 div.sk-parallel-item::after {content: \"\";width: 100%;border-bottom: 1px solid gray;flex-grow: 1;}#sk-container-id-1 div.sk-label:hover label.sk-toggleable__label {background-color: #d4ebff;}#sk-container-id-1 div.sk-serial::before {content: \"\";position: absolute;border-left: 1px solid gray;box-sizing: border-box;top: 0;bottom: 0;left: 50%;z-index: 0;}#sk-container-id-1 div.sk-serial {display: flex;flex-direction: column;align-items: center;background-color: white;padding-right: 0.2em;padding-left: 0.2em;position: relative;}#sk-container-id-1 div.sk-item {position: relative;z-index: 1;}#sk-container-id-1 div.sk-parallel {display: flex;align-items: stretch;justify-content: center;background-color: white;position: relative;}#sk-container-id-1 div.sk-item::before, #sk-container-id-1 div.sk-parallel-item::before {content: \"\";position: absolute;border-left: 1px solid gray;box-sizing: border-box;top: 0;bottom: 0;left: 50%;z-index: -1;}#sk-container-id-1 div.sk-parallel-item {display: flex;flex-direction: column;z-index: 1;position: relative;background-color: white;}#sk-container-id-1 div.sk-parallel-item:first-child::after {align-self: flex-end;width: 50%;}#sk-container-id-1 div.sk-parallel-item:last-child::after {align-self: flex-start;width: 50%;}#sk-container-id-1 div.sk-parallel-item:only-child::after {width: 0;}#sk-container-id-1 div.sk-dashed-wrapped {border: 1px dashed gray;margin: 0 0.4em 0.5em 0.4em;box-sizing: border-box;padding-bottom: 0.4em;background-color: white;}#sk-container-id-1 div.sk-label label {font-family: monospace;font-weight: bold;display: inline-block;line-height: 1.2em;}#sk-container-id-1 div.sk-label-container {text-align: center;}#sk-container-id-1 div.sk-container {/* jupyter's `normalize.less` sets `[hidden] { display: none; }` but bootstrap.min.css set `[hidden] { display: none !important; }` so we also need the `!important` here to be able to override the default hidden behavior on the sphinx rendered scikit-learn.org. See: https://github.com/scikit-learn/scikit-learn/issues/21755 */display: inline-block !important;position: relative;}#sk-container-id-1 div.sk-text-repr-fallback {display: none;}</style><div id=\"sk-container-id-1\" class=\"sk-top-container\"><div class=\"sk-text-repr-fallback\"><pre>GridSearchCV(cv=5, estimator=LogisticRegression(),\n",
       "             param_grid={&#x27;C&#x27;: array([0.5, 0.6, 0.7, 0.8, 0.9, 1. , 1.1, 1.2, 1.3, 1.4, 1.5, 1.6, 1.7,\n",
       "       1.8, 1.9, 2. , 2.1, 2.2, 2.3, 2.4, 2.5, 2.6, 2.7, 2.8, 2.9, 3. ,\n",
       "       3.1, 3.2, 3.3, 3.4, 3.5, 3.6, 3.7, 3.8, 3.9, 4. , 4.1, 4.2, 4.3,\n",
       "       4.4, 4.5, 4.6, 4.7, 4.8, 4.9, 5. ])})</pre><b>In a Jupyter environment, please rerun this cell to show the HTML representation or trust the notebook. <br />On GitHub, the HTML representation is unable to render, please try loading this page with nbviewer.org.</b></div><div class=\"sk-container\" hidden><div class=\"sk-item sk-dashed-wrapped\"><div class=\"sk-label-container\"><div class=\"sk-label sk-toggleable\"><input class=\"sk-toggleable__control sk-hidden--visually\" id=\"sk-estimator-id-1\" type=\"checkbox\" ><label for=\"sk-estimator-id-1\" class=\"sk-toggleable__label sk-toggleable__label-arrow\">GridSearchCV</label><div class=\"sk-toggleable__content\"><pre>GridSearchCV(cv=5, estimator=LogisticRegression(),\n",
       "             param_grid={&#x27;C&#x27;: array([0.5, 0.6, 0.7, 0.8, 0.9, 1. , 1.1, 1.2, 1.3, 1.4, 1.5, 1.6, 1.7,\n",
       "       1.8, 1.9, 2. , 2.1, 2.2, 2.3, 2.4, 2.5, 2.6, 2.7, 2.8, 2.9, 3. ,\n",
       "       3.1, 3.2, 3.3, 3.4, 3.5, 3.6, 3.7, 3.8, 3.9, 4. , 4.1, 4.2, 4.3,\n",
       "       4.4, 4.5, 4.6, 4.7, 4.8, 4.9, 5. ])})</pre></div></div></div><div class=\"sk-parallel\"><div class=\"sk-parallel-item\"><div class=\"sk-item\"><div class=\"sk-label-container\"><div class=\"sk-label sk-toggleable\"><input class=\"sk-toggleable__control sk-hidden--visually\" id=\"sk-estimator-id-2\" type=\"checkbox\" ><label for=\"sk-estimator-id-2\" class=\"sk-toggleable__label sk-toggleable__label-arrow\">estimator: LogisticRegression</label><div class=\"sk-toggleable__content\"><pre>LogisticRegression()</pre></div></div></div><div class=\"sk-serial\"><div class=\"sk-item\"><div class=\"sk-estimator sk-toggleable\"><input class=\"sk-toggleable__control sk-hidden--visually\" id=\"sk-estimator-id-3\" type=\"checkbox\" ><label for=\"sk-estimator-id-3\" class=\"sk-toggleable__label sk-toggleable__label-arrow\">LogisticRegression</label><div class=\"sk-toggleable__content\"><pre>LogisticRegression()</pre></div></div></div></div></div></div></div></div></div></div>"
      ],
      "text/plain": [
       "GridSearchCV(cv=5, estimator=LogisticRegression(),\n",
       "             param_grid={'C': array([0.5, 0.6, 0.7, 0.8, 0.9, 1. , 1.1, 1.2, 1.3, 1.4, 1.5, 1.6, 1.7,\n",
       "       1.8, 1.9, 2. , 2.1, 2.2, 2.3, 2.4, 2.5, 2.6, 2.7, 2.8, 2.9, 3. ,\n",
       "       3.1, 3.2, 3.3, 3.4, 3.5, 3.6, 3.7, 3.8, 3.9, 4. , 4.1, 4.2, 4.3,\n",
       "       4.4, 4.5, 4.6, 4.7, 4.8, 4.9, 5. ])})"
      ]
     },
     "execution_count": 66,
     "metadata": {},
     "output_type": "execute_result"
    }
   ],
   "source": [
    "#initialize model\n",
    "logit = LogisticRegression(solver='lbfgs')\n",
    "#set parameter grid\n",
    "param_grid = {'C':np.arange(0.5,5.1,0.1)}\n",
    "#instantiate and fit grid search object\n",
    "grid = GridSearchCV(logit,param_grid,cv=5)\n",
    "grid.fit(X_train,np.ravel(y_train))"
   ]
  },
  {
   "cell_type": "code",
   "execution_count": 67,
   "id": "fe0959f7",
   "metadata": {},
   "outputs": [
    {
     "data": {
      "text/plain": [
       "0.9999999999999999"
      ]
     },
     "execution_count": 67,
     "metadata": {},
     "output_type": "execute_result"
    }
   ],
   "source": [
    "grid.best_estimator_.C"
   ]
  },
  {
   "cell_type": "code",
   "execution_count": 68,
   "id": "4bd718e6",
   "metadata": {},
   "outputs": [
    {
     "data": {
      "text/html": [
       "<div>\n",
       "<style scoped>\n",
       "    .dataframe tbody tr th:only-of-type {\n",
       "        vertical-align: middle;\n",
       "    }\n",
       "\n",
       "    .dataframe tbody tr th {\n",
       "        vertical-align: top;\n",
       "    }\n",
       "\n",
       "    .dataframe thead th {\n",
       "        text-align: right;\n",
       "    }\n",
       "</style>\n",
       "<table border=\"1\" class=\"dataframe\">\n",
       "  <thead>\n",
       "    <tr style=\"text-align: right;\">\n",
       "      <th></th>\n",
       "      <th>feature</th>\n",
       "      <th>coefficient</th>\n",
       "    </tr>\n",
       "  </thead>\n",
       "  <tbody>\n",
       "    <tr>\n",
       "      <th>0</th>\n",
       "      <td>trips_in_first_30_days</td>\n",
       "      <td>0.085746</td>\n",
       "    </tr>\n",
       "    <tr>\n",
       "      <th>1</th>\n",
       "      <td>avg_rating_of_driver</td>\n",
       "      <td>-0.467842</td>\n",
       "    </tr>\n",
       "    <tr>\n",
       "      <th>2</th>\n",
       "      <td>avg_surge</td>\n",
       "      <td>1.734196</td>\n",
       "    </tr>\n",
       "    <tr>\n",
       "      <th>3</th>\n",
       "      <td>surge_pct</td>\n",
       "      <td>-0.665746</td>\n",
       "    </tr>\n",
       "    <tr>\n",
       "      <th>4</th>\n",
       "      <td>weekday_pct</td>\n",
       "      <td>-0.236958</td>\n",
       "    </tr>\n",
       "    <tr>\n",
       "      <th>5</th>\n",
       "      <td>avg_dist</td>\n",
       "      <td>0.164841</td>\n",
       "    </tr>\n",
       "    <tr>\n",
       "      <th>6</th>\n",
       "      <td>avg_rating_by_driver</td>\n",
       "      <td>-1.330364</td>\n",
       "    </tr>\n",
       "    <tr>\n",
       "      <th>7</th>\n",
       "      <td>city_Astapor</td>\n",
       "      <td>-0.761252</td>\n",
       "    </tr>\n",
       "    <tr>\n",
       "      <th>8</th>\n",
       "      <td>city_King's Landing</td>\n",
       "      <td>1.128401</td>\n",
       "    </tr>\n",
       "    <tr>\n",
       "      <th>9</th>\n",
       "      <td>city_Winterfell</td>\n",
       "      <td>-0.245323</td>\n",
       "    </tr>\n",
       "    <tr>\n",
       "      <th>10</th>\n",
       "      <td>phone_Android</td>\n",
       "      <td>-0.475237</td>\n",
       "    </tr>\n",
       "    <tr>\n",
       "      <th>11</th>\n",
       "      <td>phone_iPhone</td>\n",
       "      <td>0.597063</td>\n",
       "    </tr>\n",
       "    <tr>\n",
       "      <th>12</th>\n",
       "      <td>ultimate_black_user_False</td>\n",
       "      <td>-0.403349</td>\n",
       "    </tr>\n",
       "    <tr>\n",
       "      <th>13</th>\n",
       "      <td>ultimate_black_user_True</td>\n",
       "      <td>0.525175</td>\n",
       "    </tr>\n",
       "  </tbody>\n",
       "</table>\n",
       "</div>"
      ],
      "text/plain": [
       "                      feature  coefficient\n",
       "0      trips_in_first_30_days     0.085746\n",
       "1        avg_rating_of_driver    -0.467842\n",
       "2                   avg_surge     1.734196\n",
       "3                   surge_pct    -0.665746\n",
       "4                 weekday_pct    -0.236958\n",
       "5                    avg_dist     0.164841\n",
       "6        avg_rating_by_driver    -1.330364\n",
       "7                city_Astapor    -0.761252\n",
       "8         city_King's Landing     1.128401\n",
       "9             city_Winterfell    -0.245323\n",
       "10              phone_Android    -0.475237\n",
       "11               phone_iPhone     0.597063\n",
       "12  ultimate_black_user_False    -0.403349\n",
       "13   ultimate_black_user_True     0.525175"
      ]
     },
     "execution_count": 68,
     "metadata": {},
     "output_type": "execute_result"
    }
   ],
   "source": [
    "#find coefficients from Logistic Regression\n",
    "logit_coef = LogisticRegression(C=grid.best_estimator_.C)\n",
    "logit_coef.fit(X_train,y_train)\n",
    "df_coef = pd.DataFrame(zip(list(df_features.columns),logit_coef.coef_[0]),index=range(df_features.columns.shape[0]),columns=['feature','coefficient'])\n",
    "df_coef"
   ]
  },
  {
   "cell_type": "code",
   "execution_count": 69,
   "id": "45a6d04f",
   "metadata": {},
   "outputs": [
    {
     "name": "stdout",
     "output_type": "stream",
     "text": [
      "0.7414574530754855\n"
     ]
    }
   ],
   "source": [
    "print(np.mean(cross_val_score(grid,X_test,np.ravel(y_test),cv=5)))"
   ]
  },
  {
   "cell_type": "code",
   "execution_count": null,
   "id": "b2256c35",
   "metadata": {},
   "outputs": [],
   "source": [
    "#The logistic regression did not add any predictive advantage. We have achieved accuracy \n",
    "#of 75% with our models and these can be the basis of even more accurate models in the future\n",
    "\n",
    "#weekday percentage: The chance of being an active user decrease as the percentage of week day\n",
    "#use goes up. From this we can see that encouraging people to use the app on the weekend will be \n",
    "#beneficial for the company revenue. \n",
    "#average rating by driver: For this feature, there is a decreased likelihood of being an active \n",
    "#user as your rating goes up. trips in the first 30 days: As the number of trips in the first 30 \n",
    "#days increases, so does the chance that a rider is active after 6 months.\n",
    "\n",
    "#Based on these results I would incentivice the following:\n",
    "#Get the clients to use the app more in the first 30 days\n",
    "#Get the clients to use th eapp more on weekends\n",
    "#GEt the drivers to be accurate ewith thie rratings in the app"
   ]
  }
 ],
 "metadata": {
  "kernelspec": {
   "display_name": "Python 3 (ipykernel)",
   "language": "python",
   "name": "python3"
  },
  "language_info": {
   "codemirror_mode": {
    "name": "ipython",
    "version": 3
   },
   "file_extension": ".py",
   "mimetype": "text/x-python",
   "name": "python",
   "nbconvert_exporter": "python",
   "pygments_lexer": "ipython3",
   "version": "3.11.5"
  }
 },
 "nbformat": 4,
 "nbformat_minor": 5
}
